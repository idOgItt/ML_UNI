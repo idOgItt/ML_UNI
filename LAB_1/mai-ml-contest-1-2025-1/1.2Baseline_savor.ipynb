{
 "cells": [
  {
   "cell_type": "code",
   "id": "initial_id",
   "metadata": {
    "collapsed": true,
    "ExecuteTime": {
     "end_time": "2025-05-17T13:45:06.125840Z",
     "start_time": "2025-05-17T13:45:06.122990Z"
    }
   },
   "source": "import pandas as pd",
   "outputs": [],
   "execution_count": 1
  },
  {
   "metadata": {
    "ExecuteTime": {
     "end_time": "2025-05-17T13:45:06.236851Z",
     "start_time": "2025-05-17T13:45:06.168819Z"
    }
   },
   "cell_type": "code",
   "source": [
    "train = pd.read_csv('train.csv')\n",
    "test = pd.read_csv('test.csv')"
   ],
   "id": "6965ba891794193a",
   "outputs": [],
   "execution_count": 2
  },
  {
   "metadata": {
    "ExecuteTime": {
     "end_time": "2025-05-17T13:45:06.279145Z",
     "start_time": "2025-05-17T13:45:06.274643Z"
    }
   },
   "cell_type": "code",
   "source": [
    "print(\"Train shape:\", train.shape)\n",
    "print(\"Test shape:\", test.shape)"
   ],
   "id": "190bac95d41cbfa",
   "outputs": [
    {
     "name": "stdout",
     "output_type": "stream",
     "text": [
      "Train shape: (11018, 36)\n",
      "Test shape: (5000, 36)\n"
     ]
    }
   ],
   "execution_count": 3
  },
  {
   "metadata": {
    "ExecuteTime": {
     "end_time": "2025-05-17T13:45:06.343199Z",
     "start_time": "2025-05-17T13:45:06.337264Z"
    }
   },
   "cell_type": "code",
   "source": "print(\"Train labels:\", train['RiskScore'])",
   "id": "65a091d5c6d02944",
   "outputs": [
    {
     "name": "stdout",
     "output_type": "stream",
     "text": [
      "Train labels: 0        66.176500\n",
      "1        28.495737\n",
      "2        34.488104\n",
      "3        36.910753\n",
      "4        31.347091\n",
      "           ...    \n",
      "11013    67.673170\n",
      "11014    75.292707\n",
      "11015          NaN\n",
      "11016    32.805455\n",
      "11017    66.176500\n",
      "Name: RiskScore, Length: 11018, dtype: float64\n"
     ]
    }
   ],
   "execution_count": 4
  },
  {
   "metadata": {
    "ExecuteTime": {
     "end_time": "2025-05-17T13:45:06.404009Z",
     "start_time": "2025-05-17T13:45:06.398366Z"
    }
   },
   "cell_type": "code",
   "source": "train.columns.tolist()",
   "id": "d9fc3f5cf44684ec",
   "outputs": [
    {
     "data": {
      "text/plain": [
       "['ApplicationDate',\n",
       " 'Age',\n",
       " 'AnnualIncome',\n",
       " 'CreditScore',\n",
       " 'LoanAmount',\n",
       " 'LoanDuration',\n",
       " 'MaritalStatus',\n",
       " 'NumberOfDependents',\n",
       " 'HomeOwnershipStatus',\n",
       " 'MonthlyDebtPayments',\n",
       " 'CreditCardUtilizationRate',\n",
       " 'NumberOfOpenCreditLines',\n",
       " 'NumberOfCreditInquiries',\n",
       " 'DebtToIncomeRatio',\n",
       " 'BankruptcyHistory',\n",
       " 'LoanPurpose',\n",
       " 'PreviousLoanDefaults',\n",
       " 'PaymentHistory',\n",
       " 'LengthOfCreditHistory',\n",
       " 'SavingsAccountBalance',\n",
       " 'CheckingAccountBalance',\n",
       " 'TotalAssets',\n",
       " 'TotalLiabilities',\n",
       " 'MonthlyIncome',\n",
       " 'UtilityBillsPaymentHistory',\n",
       " 'JobTenure',\n",
       " 'EmploymentStatus',\n",
       " 'EducationLevel',\n",
       " 'Experience',\n",
       " 'NetWorth',\n",
       " 'BaseInterestRate',\n",
       " 'InterestRate',\n",
       " 'MonthlyLoanPayment',\n",
       " 'TotalDebtToIncomeRatio',\n",
       " 'LoanApproved',\n",
       " 'RiskScore']"
      ]
     },
     "execution_count": 5,
     "metadata": {},
     "output_type": "execute_result"
    }
   ],
   "execution_count": 5
  },
  {
   "metadata": {
    "ExecuteTime": {
     "end_time": "2025-05-17T13:45:06.477973Z",
     "start_time": "2025-05-17T13:45:06.462360Z"
    }
   },
   "cell_type": "code",
   "source": "train.head()",
   "id": "4a10ab562e14268f",
   "outputs": [
    {
     "data": {
      "text/plain": [
       "  ApplicationDate   Age  AnnualIncome  CreditScore  LoanAmount  LoanDuration  \\\n",
       "0      2010-06-26  27.0       66829.0        549.0     17290.0          60.0   \n",
       "1      1996-09-23  55.0      172147.0        850.0     16110.0          36.0   \n",
       "2      2015-01-19  51.0      300000.0        850.0     38436.0          36.0   \n",
       "3      1981-05-12  25.0       34683.0        847.0     19186.0          48.0   \n",
       "4      1995-05-07  55.0      300000.0        850.0     30437.0          48.0   \n",
       "\n",
       "  MaritalStatus  NumberOfDependents HomeOwnershipStatus  MonthlyDebtPayments  \\\n",
       "0      Divorced                 1.0                Rent               1095.0   \n",
       "1       Widowed                 1.0            Mortgage                211.0   \n",
       "2       Married                 0.0            Mortgage                546.0   \n",
       "3       Married                 0.0               Other                153.0   \n",
       "4        Single                 2.0                Rent                562.0   \n",
       "\n",
       "   ...  EmploymentStatus  EducationLevel  Experience  NetWorth  \\\n",
       "0  ...          Employed       Associate         4.0   35067.0   \n",
       "1  ...          Employed     High School        33.0   27001.0   \n",
       "2  ...          Employed        Bachelor        28.0  278382.0   \n",
       "3  ...          Employed     High School         0.0    9224.0   \n",
       "4  ...          Employed        Bachelor        31.0    4502.0   \n",
       "\n",
       "   BaseInterestRate InterestRate  MonthlyLoanPayment  TotalDebtToIncomeRatio  \\\n",
       "0          0.257790     0.251465          508.970230                0.288013   \n",
       "1          0.086110     0.093173          514.675859                0.050585   \n",
       "2          0.108436     0.115443         1268.276385                0.072571   \n",
       "3          0.100686     0.112822          498.505187                0.225415   \n",
       "4          0.110437     0.089037          756.035156                0.052721   \n",
       "\n",
       "   LoanApproved  RiskScore  \n",
       "0           0.0  66.176500  \n",
       "1           1.0  28.495737  \n",
       "2           1.0  34.488104  \n",
       "3           1.0  36.910753  \n",
       "4           1.0  31.347091  \n",
       "\n",
       "[5 rows x 36 columns]"
      ],
      "text/html": [
       "<div>\n",
       "<style scoped>\n",
       "    .dataframe tbody tr th:only-of-type {\n",
       "        vertical-align: middle;\n",
       "    }\n",
       "\n",
       "    .dataframe tbody tr th {\n",
       "        vertical-align: top;\n",
       "    }\n",
       "\n",
       "    .dataframe thead th {\n",
       "        text-align: right;\n",
       "    }\n",
       "</style>\n",
       "<table border=\"1\" class=\"dataframe\">\n",
       "  <thead>\n",
       "    <tr style=\"text-align: right;\">\n",
       "      <th></th>\n",
       "      <th>ApplicationDate</th>\n",
       "      <th>Age</th>\n",
       "      <th>AnnualIncome</th>\n",
       "      <th>CreditScore</th>\n",
       "      <th>LoanAmount</th>\n",
       "      <th>LoanDuration</th>\n",
       "      <th>MaritalStatus</th>\n",
       "      <th>NumberOfDependents</th>\n",
       "      <th>HomeOwnershipStatus</th>\n",
       "      <th>MonthlyDebtPayments</th>\n",
       "      <th>...</th>\n",
       "      <th>EmploymentStatus</th>\n",
       "      <th>EducationLevel</th>\n",
       "      <th>Experience</th>\n",
       "      <th>NetWorth</th>\n",
       "      <th>BaseInterestRate</th>\n",
       "      <th>InterestRate</th>\n",
       "      <th>MonthlyLoanPayment</th>\n",
       "      <th>TotalDebtToIncomeRatio</th>\n",
       "      <th>LoanApproved</th>\n",
       "      <th>RiskScore</th>\n",
       "    </tr>\n",
       "  </thead>\n",
       "  <tbody>\n",
       "    <tr>\n",
       "      <th>0</th>\n",
       "      <td>2010-06-26</td>\n",
       "      <td>27.0</td>\n",
       "      <td>66829.0</td>\n",
       "      <td>549.0</td>\n",
       "      <td>17290.0</td>\n",
       "      <td>60.0</td>\n",
       "      <td>Divorced</td>\n",
       "      <td>1.0</td>\n",
       "      <td>Rent</td>\n",
       "      <td>1095.0</td>\n",
       "      <td>...</td>\n",
       "      <td>Employed</td>\n",
       "      <td>Associate</td>\n",
       "      <td>4.0</td>\n",
       "      <td>35067.0</td>\n",
       "      <td>0.257790</td>\n",
       "      <td>0.251465</td>\n",
       "      <td>508.970230</td>\n",
       "      <td>0.288013</td>\n",
       "      <td>0.0</td>\n",
       "      <td>66.176500</td>\n",
       "    </tr>\n",
       "    <tr>\n",
       "      <th>1</th>\n",
       "      <td>1996-09-23</td>\n",
       "      <td>55.0</td>\n",
       "      <td>172147.0</td>\n",
       "      <td>850.0</td>\n",
       "      <td>16110.0</td>\n",
       "      <td>36.0</td>\n",
       "      <td>Widowed</td>\n",
       "      <td>1.0</td>\n",
       "      <td>Mortgage</td>\n",
       "      <td>211.0</td>\n",
       "      <td>...</td>\n",
       "      <td>Employed</td>\n",
       "      <td>High School</td>\n",
       "      <td>33.0</td>\n",
       "      <td>27001.0</td>\n",
       "      <td>0.086110</td>\n",
       "      <td>0.093173</td>\n",
       "      <td>514.675859</td>\n",
       "      <td>0.050585</td>\n",
       "      <td>1.0</td>\n",
       "      <td>28.495737</td>\n",
       "    </tr>\n",
       "    <tr>\n",
       "      <th>2</th>\n",
       "      <td>2015-01-19</td>\n",
       "      <td>51.0</td>\n",
       "      <td>300000.0</td>\n",
       "      <td>850.0</td>\n",
       "      <td>38436.0</td>\n",
       "      <td>36.0</td>\n",
       "      <td>Married</td>\n",
       "      <td>0.0</td>\n",
       "      <td>Mortgage</td>\n",
       "      <td>546.0</td>\n",
       "      <td>...</td>\n",
       "      <td>Employed</td>\n",
       "      <td>Bachelor</td>\n",
       "      <td>28.0</td>\n",
       "      <td>278382.0</td>\n",
       "      <td>0.108436</td>\n",
       "      <td>0.115443</td>\n",
       "      <td>1268.276385</td>\n",
       "      <td>0.072571</td>\n",
       "      <td>1.0</td>\n",
       "      <td>34.488104</td>\n",
       "    </tr>\n",
       "    <tr>\n",
       "      <th>3</th>\n",
       "      <td>1981-05-12</td>\n",
       "      <td>25.0</td>\n",
       "      <td>34683.0</td>\n",
       "      <td>847.0</td>\n",
       "      <td>19186.0</td>\n",
       "      <td>48.0</td>\n",
       "      <td>Married</td>\n",
       "      <td>0.0</td>\n",
       "      <td>Other</td>\n",
       "      <td>153.0</td>\n",
       "      <td>...</td>\n",
       "      <td>Employed</td>\n",
       "      <td>High School</td>\n",
       "      <td>0.0</td>\n",
       "      <td>9224.0</td>\n",
       "      <td>0.100686</td>\n",
       "      <td>0.112822</td>\n",
       "      <td>498.505187</td>\n",
       "      <td>0.225415</td>\n",
       "      <td>1.0</td>\n",
       "      <td>36.910753</td>\n",
       "    </tr>\n",
       "    <tr>\n",
       "      <th>4</th>\n",
       "      <td>1995-05-07</td>\n",
       "      <td>55.0</td>\n",
       "      <td>300000.0</td>\n",
       "      <td>850.0</td>\n",
       "      <td>30437.0</td>\n",
       "      <td>48.0</td>\n",
       "      <td>Single</td>\n",
       "      <td>2.0</td>\n",
       "      <td>Rent</td>\n",
       "      <td>562.0</td>\n",
       "      <td>...</td>\n",
       "      <td>Employed</td>\n",
       "      <td>Bachelor</td>\n",
       "      <td>31.0</td>\n",
       "      <td>4502.0</td>\n",
       "      <td>0.110437</td>\n",
       "      <td>0.089037</td>\n",
       "      <td>756.035156</td>\n",
       "      <td>0.052721</td>\n",
       "      <td>1.0</td>\n",
       "      <td>31.347091</td>\n",
       "    </tr>\n",
       "  </tbody>\n",
       "</table>\n",
       "<p>5 rows × 36 columns</p>\n",
       "</div>"
      ]
     },
     "execution_count": 6,
     "metadata": {},
     "output_type": "execute_result"
    }
   ],
   "execution_count": 6
  },
  {
   "metadata": {
    "ExecuteTime": {
     "end_time": "2025-05-17T13:45:06.570735Z",
     "start_time": "2025-05-17T13:45:06.560580Z"
    }
   },
   "cell_type": "code",
   "source": "test.head()",
   "id": "67296aa91e371efd",
   "outputs": [
    {
     "data": {
      "text/plain": [
       "   ID ApplicationDate  Age  AnnualIncome  CreditScore  LoanAmount  \\\n",
       "0   0      1979-01-03   49        207095          850       14458   \n",
       "1   1      2006-04-10   28         64653          674       65491   \n",
       "2   2      2013-11-28   41        300000          768       16811   \n",
       "3   3      1995-08-24   50        300000          850       48737   \n",
       "4   4      1980-06-15   35        300000          672       51916   \n",
       "\n",
       "   LoanDuration MaritalStatus  NumberOfDependents HomeOwnershipStatus  ...  \\\n",
       "0            60        Single                   0                Rent  ...   \n",
       "1            48        Single                   2                 Own  ...   \n",
       "2            60        Single                   1                 Own  ...   \n",
       "3            36      Divorced                   0            Mortgage  ...   \n",
       "4            60        Single                   6            Mortgage  ...   \n",
       "\n",
       "   JobTenure  EmploymentStatus  EducationLevel  Experience  NetWorth  \\\n",
       "0          6          Employed     High School          23     10626   \n",
       "1          3          Employed     High School           3    299024   \n",
       "2          3          Employed     High School          19      6979   \n",
       "3          3     Self-Employed        Bachelor          26      8438   \n",
       "4          7          Employed       Associate          12    436216   \n",
       "\n",
       "   BaseInterestRate InterestRate  MonthlyLoanPayment  TotalDebtToIncomeRatio  \\\n",
       "0          0.104458     0.125350          325.532336                0.040650   \n",
       "1          0.233491     0.260561         2210.247757                0.454410   \n",
       "2          0.147811     0.154571          403.977431                0.034919   \n",
       "3          0.118737     0.099712         1571.946906                0.085558   \n",
       "4          0.230916     0.237727         1486.675235                0.063707   \n",
       "\n",
       "   LoanApproved  \n",
       "0             1  \n",
       "1             0  \n",
       "2             1  \n",
       "3             1  \n",
       "4             1  \n",
       "\n",
       "[5 rows x 36 columns]"
      ],
      "text/html": [
       "<div>\n",
       "<style scoped>\n",
       "    .dataframe tbody tr th:only-of-type {\n",
       "        vertical-align: middle;\n",
       "    }\n",
       "\n",
       "    .dataframe tbody tr th {\n",
       "        vertical-align: top;\n",
       "    }\n",
       "\n",
       "    .dataframe thead th {\n",
       "        text-align: right;\n",
       "    }\n",
       "</style>\n",
       "<table border=\"1\" class=\"dataframe\">\n",
       "  <thead>\n",
       "    <tr style=\"text-align: right;\">\n",
       "      <th></th>\n",
       "      <th>ID</th>\n",
       "      <th>ApplicationDate</th>\n",
       "      <th>Age</th>\n",
       "      <th>AnnualIncome</th>\n",
       "      <th>CreditScore</th>\n",
       "      <th>LoanAmount</th>\n",
       "      <th>LoanDuration</th>\n",
       "      <th>MaritalStatus</th>\n",
       "      <th>NumberOfDependents</th>\n",
       "      <th>HomeOwnershipStatus</th>\n",
       "      <th>...</th>\n",
       "      <th>JobTenure</th>\n",
       "      <th>EmploymentStatus</th>\n",
       "      <th>EducationLevel</th>\n",
       "      <th>Experience</th>\n",
       "      <th>NetWorth</th>\n",
       "      <th>BaseInterestRate</th>\n",
       "      <th>InterestRate</th>\n",
       "      <th>MonthlyLoanPayment</th>\n",
       "      <th>TotalDebtToIncomeRatio</th>\n",
       "      <th>LoanApproved</th>\n",
       "    </tr>\n",
       "  </thead>\n",
       "  <tbody>\n",
       "    <tr>\n",
       "      <th>0</th>\n",
       "      <td>0</td>\n",
       "      <td>1979-01-03</td>\n",
       "      <td>49</td>\n",
       "      <td>207095</td>\n",
       "      <td>850</td>\n",
       "      <td>14458</td>\n",
       "      <td>60</td>\n",
       "      <td>Single</td>\n",
       "      <td>0</td>\n",
       "      <td>Rent</td>\n",
       "      <td>...</td>\n",
       "      <td>6</td>\n",
       "      <td>Employed</td>\n",
       "      <td>High School</td>\n",
       "      <td>23</td>\n",
       "      <td>10626</td>\n",
       "      <td>0.104458</td>\n",
       "      <td>0.125350</td>\n",
       "      <td>325.532336</td>\n",
       "      <td>0.040650</td>\n",
       "      <td>1</td>\n",
       "    </tr>\n",
       "    <tr>\n",
       "      <th>1</th>\n",
       "      <td>1</td>\n",
       "      <td>2006-04-10</td>\n",
       "      <td>28</td>\n",
       "      <td>64653</td>\n",
       "      <td>674</td>\n",
       "      <td>65491</td>\n",
       "      <td>48</td>\n",
       "      <td>Single</td>\n",
       "      <td>2</td>\n",
       "      <td>Own</td>\n",
       "      <td>...</td>\n",
       "      <td>3</td>\n",
       "      <td>Employed</td>\n",
       "      <td>High School</td>\n",
       "      <td>3</td>\n",
       "      <td>299024</td>\n",
       "      <td>0.233491</td>\n",
       "      <td>0.260561</td>\n",
       "      <td>2210.247757</td>\n",
       "      <td>0.454410</td>\n",
       "      <td>0</td>\n",
       "    </tr>\n",
       "    <tr>\n",
       "      <th>2</th>\n",
       "      <td>2</td>\n",
       "      <td>2013-11-28</td>\n",
       "      <td>41</td>\n",
       "      <td>300000</td>\n",
       "      <td>768</td>\n",
       "      <td>16811</td>\n",
       "      <td>60</td>\n",
       "      <td>Single</td>\n",
       "      <td>1</td>\n",
       "      <td>Own</td>\n",
       "      <td>...</td>\n",
       "      <td>3</td>\n",
       "      <td>Employed</td>\n",
       "      <td>High School</td>\n",
       "      <td>19</td>\n",
       "      <td>6979</td>\n",
       "      <td>0.147811</td>\n",
       "      <td>0.154571</td>\n",
       "      <td>403.977431</td>\n",
       "      <td>0.034919</td>\n",
       "      <td>1</td>\n",
       "    </tr>\n",
       "    <tr>\n",
       "      <th>3</th>\n",
       "      <td>3</td>\n",
       "      <td>1995-08-24</td>\n",
       "      <td>50</td>\n",
       "      <td>300000</td>\n",
       "      <td>850</td>\n",
       "      <td>48737</td>\n",
       "      <td>36</td>\n",
       "      <td>Divorced</td>\n",
       "      <td>0</td>\n",
       "      <td>Mortgage</td>\n",
       "      <td>...</td>\n",
       "      <td>3</td>\n",
       "      <td>Self-Employed</td>\n",
       "      <td>Bachelor</td>\n",
       "      <td>26</td>\n",
       "      <td>8438</td>\n",
       "      <td>0.118737</td>\n",
       "      <td>0.099712</td>\n",
       "      <td>1571.946906</td>\n",
       "      <td>0.085558</td>\n",
       "      <td>1</td>\n",
       "    </tr>\n",
       "    <tr>\n",
       "      <th>4</th>\n",
       "      <td>4</td>\n",
       "      <td>1980-06-15</td>\n",
       "      <td>35</td>\n",
       "      <td>300000</td>\n",
       "      <td>672</td>\n",
       "      <td>51916</td>\n",
       "      <td>60</td>\n",
       "      <td>Single</td>\n",
       "      <td>6</td>\n",
       "      <td>Mortgage</td>\n",
       "      <td>...</td>\n",
       "      <td>7</td>\n",
       "      <td>Employed</td>\n",
       "      <td>Associate</td>\n",
       "      <td>12</td>\n",
       "      <td>436216</td>\n",
       "      <td>0.230916</td>\n",
       "      <td>0.237727</td>\n",
       "      <td>1486.675235</td>\n",
       "      <td>0.063707</td>\n",
       "      <td>1</td>\n",
       "    </tr>\n",
       "  </tbody>\n",
       "</table>\n",
       "<p>5 rows × 36 columns</p>\n",
       "</div>"
      ]
     },
     "execution_count": 7,
     "metadata": {},
     "output_type": "execute_result"
    }
   ],
   "execution_count": 7
  },
  {
   "metadata": {
    "ExecuteTime": {
     "end_time": "2025-05-17T13:45:06.677358Z",
     "start_time": "2025-05-17T13:45:06.667497Z"
    }
   },
   "cell_type": "code",
   "source": "train.info()",
   "id": "adde9ca3eba56c99",
   "outputs": [
    {
     "name": "stdout",
     "output_type": "stream",
     "text": [
      "<class 'pandas.core.frame.DataFrame'>\n",
      "RangeIndex: 11018 entries, 0 to 11017\n",
      "Data columns (total 36 columns):\n",
      " #   Column                      Non-Null Count  Dtype  \n",
      "---  ------                      --------------  -----  \n",
      " 0   ApplicationDate             10488 non-null  object \n",
      " 1   Age                         10488 non-null  float64\n",
      " 2   AnnualIncome                10488 non-null  float64\n",
      " 3   CreditScore                 9987 non-null   float64\n",
      " 4   LoanAmount                  9987 non-null   float64\n",
      " 5   LoanDuration                10488 non-null  float64\n",
      " 6   MaritalStatus               10488 non-null  object \n",
      " 7   NumberOfDependents          10488 non-null  float64\n",
      " 8   HomeOwnershipStatus         10488 non-null  object \n",
      " 9   MonthlyDebtPayments         9987 non-null   float64\n",
      " 10  CreditCardUtilizationRate   10488 non-null  float64\n",
      " 11  NumberOfOpenCreditLines     10488 non-null  float64\n",
      " 12  NumberOfCreditInquiries     10488 non-null  float64\n",
      " 13  DebtToIncomeRatio           10488 non-null  float64\n",
      " 14  BankruptcyHistory           9987 non-null   float64\n",
      " 15  LoanPurpose                 9987 non-null   object \n",
      " 16  PreviousLoanDefaults        10488 non-null  float64\n",
      " 17  PaymentHistory              10488 non-null  float64\n",
      " 18  LengthOfCreditHistory       10488 non-null  float64\n",
      " 19  SavingsAccountBalance       10488 non-null  float64\n",
      " 20  CheckingAccountBalance      9987 non-null   float64\n",
      " 21  TotalAssets                 9987 non-null   float64\n",
      " 22  TotalLiabilities            10488 non-null  float64\n",
      " 23  MonthlyIncome               10488 non-null  float64\n",
      " 24  UtilityBillsPaymentHistory  10488 non-null  float64\n",
      " 25  JobTenure                   10488 non-null  float64\n",
      " 26  EmploymentStatus            10488 non-null  object \n",
      " 27  EducationLevel              10488 non-null  object \n",
      " 28  Experience                  10488 non-null  float64\n",
      " 29  NetWorth                    9987 non-null   float64\n",
      " 30  BaseInterestRate            9987 non-null   float64\n",
      " 31  InterestRate                10488 non-null  float64\n",
      " 32  MonthlyLoanPayment          10488 non-null  float64\n",
      " 33  TotalDebtToIncomeRatio      10488 non-null  float64\n",
      " 34  LoanApproved                10488 non-null  float64\n",
      " 35  RiskScore                   10488 non-null  float64\n",
      "dtypes: float64(30), object(6)\n",
      "memory usage: 3.0+ MB\n"
     ]
    }
   ],
   "execution_count": 8
  },
  {
   "metadata": {
    "ExecuteTime": {
     "end_time": "2025-05-17T13:45:06.801047Z",
     "start_time": "2025-05-17T13:45:06.790417Z"
    }
   },
   "cell_type": "code",
   "source": "test.info()",
   "id": "252d54de94f97d30",
   "outputs": [
    {
     "name": "stdout",
     "output_type": "stream",
     "text": [
      "<class 'pandas.core.frame.DataFrame'>\n",
      "RangeIndex: 5000 entries, 0 to 4999\n",
      "Data columns (total 36 columns):\n",
      " #   Column                      Non-Null Count  Dtype  \n",
      "---  ------                      --------------  -----  \n",
      " 0   ID                          5000 non-null   int64  \n",
      " 1   ApplicationDate             5000 non-null   object \n",
      " 2   Age                         5000 non-null   int64  \n",
      " 3   AnnualIncome                5000 non-null   int64  \n",
      " 4   CreditScore                 5000 non-null   int64  \n",
      " 5   LoanAmount                  5000 non-null   int64  \n",
      " 6   LoanDuration                5000 non-null   int64  \n",
      " 7   MaritalStatus               5000 non-null   object \n",
      " 8   NumberOfDependents          5000 non-null   int64  \n",
      " 9   HomeOwnershipStatus         5000 non-null   object \n",
      " 10  MonthlyDebtPayments         5000 non-null   int64  \n",
      " 11  CreditCardUtilizationRate   5000 non-null   float64\n",
      " 12  NumberOfOpenCreditLines     5000 non-null   int64  \n",
      " 13  NumberOfCreditInquiries     5000 non-null   int64  \n",
      " 14  DebtToIncomeRatio           5000 non-null   float64\n",
      " 15  BankruptcyHistory           5000 non-null   int64  \n",
      " 16  LoanPurpose                 5000 non-null   object \n",
      " 17  PreviousLoanDefaults        5000 non-null   int64  \n",
      " 18  PaymentHistory              5000 non-null   int64  \n",
      " 19  LengthOfCreditHistory       5000 non-null   int64  \n",
      " 20  SavingsAccountBalance       5000 non-null   int64  \n",
      " 21  CheckingAccountBalance      5000 non-null   int64  \n",
      " 22  TotalAssets                 5000 non-null   int64  \n",
      " 23  TotalLiabilities            5000 non-null   int64  \n",
      " 24  MonthlyIncome               5000 non-null   float64\n",
      " 25  UtilityBillsPaymentHistory  5000 non-null   float64\n",
      " 26  JobTenure                   5000 non-null   int64  \n",
      " 27  EmploymentStatus            5000 non-null   object \n",
      " 28  EducationLevel              5000 non-null   object \n",
      " 29  Experience                  5000 non-null   int64  \n",
      " 30  NetWorth                    5000 non-null   int64  \n",
      " 31  BaseInterestRate            5000 non-null   float64\n",
      " 32  InterestRate                5000 non-null   float64\n",
      " 33  MonthlyLoanPayment          5000 non-null   float64\n",
      " 34  TotalDebtToIncomeRatio      5000 non-null   float64\n",
      " 35  LoanApproved                5000 non-null   int64  \n",
      "dtypes: float64(8), int64(22), object(6)\n",
      "memory usage: 1.4+ MB\n"
     ]
    }
   ],
   "execution_count": 9
  },
  {
   "metadata": {
    "ExecuteTime": {
     "end_time": "2025-05-17T13:45:07.045646Z",
     "start_time": "2025-05-17T13:45:07.032792Z"
    }
   },
   "cell_type": "code",
   "source": [
    "unique_counts = {column: train[column].nunique() for column in train.columns}\n",
    "\n",
    "sorted_unique = dict(sorted(unique_counts.items(), key=lambda item: item[1]))\n",
    "\n",
    "for column, count in sorted_unique.items():\n",
    "    print(f\"{column}: {count} unique values\")\n"
   ],
   "id": "5e231721164a760e",
   "outputs": [
    {
     "name": "stdout",
     "output_type": "stream",
     "text": [
      "BankruptcyHistory: 2 unique values\n",
      "PreviousLoanDefaults: 2 unique values\n",
      "LoanApproved: 2 unique values\n",
      "EmploymentStatus: 3 unique values\n",
      "MaritalStatus: 4 unique values\n",
      "HomeOwnershipStatus: 4 unique values\n",
      "LoanPurpose: 5 unique values\n",
      "EducationLevel: 5 unique values\n",
      "NumberOfDependents: 7 unique values\n",
      "NumberOfCreditInquiries: 7 unique values\n",
      "LoanDuration: 10 unique values\n",
      "NumberOfOpenCreditLines: 12 unique values\n",
      "JobTenure: 16 unique values\n",
      "LengthOfCreditHistory: 30 unique values\n",
      "PaymentHistory: 37 unique values\n",
      "Experience: 58 unique values\n",
      "Age: 63 unique values\n",
      "CreditScore: 548 unique values\n",
      "MonthlyDebtPayments: 1736 unique values\n",
      "CheckingAccountBalance: 3971 unique values\n",
      "MonthlyIncome: 5546 unique values\n",
      "AnnualIncome: 5602 unique values\n",
      "SavingsAccountBalance: 6344 unique values\n",
      "LoanAmount: 8720 unique values\n",
      "NetWorth: 8842 unique values\n",
      "TotalAssets: 9241 unique values\n",
      "TotalLiabilities: 9300 unique values\n",
      "BaseInterestRate: 9388 unique values\n",
      "RiskScore: 9790 unique values\n",
      "ApplicationDate: 10000 unique values\n",
      "CreditCardUtilizationRate: 10000 unique values\n",
      "DebtToIncomeRatio: 10000 unique values\n",
      "UtilityBillsPaymentHistory: 10000 unique values\n",
      "InterestRate: 10000 unique values\n",
      "MonthlyLoanPayment: 10000 unique values\n",
      "TotalDebtToIncomeRatio: 10000 unique values\n"
     ]
    }
   ],
   "execution_count": 10
  },
  {
   "metadata": {
    "ExecuteTime": {
     "end_time": "2025-05-17T13:45:07.144009Z",
     "start_time": "2025-05-17T13:45:07.137004Z"
    }
   },
   "cell_type": "code",
   "source": [
    "import numpy as np\n",
    "import pandas as pd\n",
    "\n",
    "train_numeric = train.select_dtypes(include=[np.number])\n",
    "test_numeric = test.select_dtypes(include=[np.number])\n",
    "\n",
    "y_train = train_numeric['RiskScore']\n",
    "X_train = train_numeric.drop(['RiskScore'], axis=1)\n",
    "\n",
    "X_test = test_numeric\n",
    "\n",
    "print(\"X_train\",X_train.shape)\n",
    "print(\"y_train\",y_train.shape)\n",
    "print(\"X_test\",X_test.shape)"
   ],
   "id": "3f47cec0fe229dbc",
   "outputs": [
    {
     "name": "stdout",
     "output_type": "stream",
     "text": [
      "X_train (11018, 29)\n",
      "y_train (11018,)\n",
      "X_test (5000, 30)\n"
     ]
    }
   ],
   "execution_count": 11
  },
  {
   "metadata": {
    "ExecuteTime": {
     "end_time": "2025-05-17T13:45:07.213526Z",
     "start_time": "2025-05-17T13:45:07.210301Z"
    }
   },
   "cell_type": "code",
   "source": "y_train.replace({-9999999.0: np.nan, 10000000.0: np.nan}, inplace=True)",
   "id": "3fd3ba85dbce911",
   "outputs": [],
   "execution_count": 12
  },
  {
   "metadata": {
    "ExecuteTime": {
     "end_time": "2025-05-17T13:45:07.288501Z",
     "start_time": "2025-05-17T13:45:07.281623Z"
    }
   },
   "cell_type": "code",
   "source": [
    "combined = pd.concat([X_train, y_train], axis=1)\n",
    "combined = combined.dropna()\n",
    "\n",
    "X_train = combined.drop(columns=[\"RiskScore\"])\n",
    "y_train = combined[\"RiskScore\"]\n"
   ],
   "id": "9b4d244de3f21e9f",
   "outputs": [],
   "execution_count": 13
  },
  {
   "metadata": {
    "ExecuteTime": {
     "end_time": "2025-05-17T13:45:07.332771Z",
     "start_time": "2025-05-17T13:45:07.327333Z"
    }
   },
   "cell_type": "code",
   "source": [
    "print(\"NaNs in y_train after clearing:\", y_train.isnull().sum())\n",
    "print(\"Shape X_train:\", X_train.shape)\n",
    "print(\"Shape y_train:\", y_train.shape)"
   ],
   "id": "8c8b6dcf8ccc3fb2",
   "outputs": [
    {
     "name": "stdout",
     "output_type": "stream",
     "text": [
      "NaNs in y_train after clearing: 0\n",
      "Shape X_train: (9788, 29)\n",
      "Shape y_train: (9788,)\n"
     ]
    }
   ],
   "execution_count": 14
  },
  {
   "metadata": {
    "ExecuteTime": {
     "end_time": "2025-05-17T13:45:07.433021Z",
     "start_time": "2025-05-17T13:45:07.414331Z"
    }
   },
   "cell_type": "code",
   "source": [
    "print(\"X_train total missing values:\", X_train.isnull().sum().sum())\n",
    "print(\"X_test total missing values before drop/fill:\", X_test.isnull().sum().sum())\n",
    "\n",
    "X_train_filled = X_train.fillna(X_train.mean())\n",
    "\n",
    "X_test_filled = X_test.fillna(X_train.mean())\n",
    "X_test_filled = X_test_filled.drop(columns=[\"Id\"], errors=\"ignore\")\n",
    "X_test_filled = X_test_filled[X_train_filled.columns]\n"
   ],
   "id": "ef38529febc74d1d",
   "outputs": [
    {
     "name": "stdout",
     "output_type": "stream",
     "text": [
      "X_train total missing values: 0\n",
      "X_test total missing values before drop/fill: 0\n"
     ]
    }
   ],
   "execution_count": 15
  },
  {
   "metadata": {
    "ExecuteTime": {
     "end_time": "2025-05-17T13:45:07.503525Z",
     "start_time": "2025-05-17T13:45:07.500819Z"
    }
   },
   "cell_type": "code",
   "source": [
    "def normalize_zscore(X, ref_stats=None):\n",
    "    if ref_stats is None:\n",
    "        mean=X.mean()\n",
    "        std=X.std()\n",
    "    else:\n",
    "        mean,std=ref_stats\n",
    "\n",
    "    std = std.replace(0, 1)\n",
    "\n",
    "    X_norm = (X - mean) / std\n",
    "    return X_norm, (mean, std)"
   ],
   "id": "b11f8d2616db888a",
   "outputs": [],
   "execution_count": 16
  },
  {
   "metadata": {
    "ExecuteTime": {
     "end_time": "2025-05-17T13:45:07.595173Z",
     "start_time": "2025-05-17T13:45:07.592151Z"
    }
   },
   "cell_type": "code",
   "source": [
    "def normalize_minmax(X, ref_stats=None):\n",
    "    if ref_stats is None:\n",
    "        X_min=X.min()\n",
    "        X_max=X.max()\n",
    "    else:\n",
    "        X_min,X_max=ref_stats\n",
    "\n",
    "    X_norm = (X - X_min) / (X_max - X_min)\n",
    "    return X_norm, (X_min, X_max)"
   ],
   "id": "74e6fcf65a08b1a",
   "outputs": [],
   "execution_count": 17
  },
  {
   "metadata": {
    "ExecuteTime": {
     "end_time": "2025-05-17T13:45:07.697331Z",
     "start_time": "2025-05-17T13:45:07.685619Z"
    }
   },
   "cell_type": "code",
   "source": [
    "X_train_z, z_stats = normalize_zscore(X_train_filled)\n",
    "X_test_z, _ = normalize_zscore(X_test_filled, ref_stats=z_stats)"
   ],
   "id": "b4a34bc92203fcab",
   "outputs": [],
   "execution_count": 18
  },
  {
   "metadata": {
    "ExecuteTime": {
     "end_time": "2025-05-17T13:45:07.786291Z",
     "start_time": "2025-05-17T13:45:07.777376Z"
    }
   },
   "cell_type": "code",
   "source": [
    "print(\"Train mean ==\",X_train_z.mean().mean())\n",
    "print(\"Train std==\",X_train_z.std().mean())"
   ],
   "id": "6cec69a92b89e7b1",
   "outputs": [
    {
     "name": "stdout",
     "output_type": "stream",
     "text": [
      "Train mean == 3.9608692296598353e-17\n",
      "Train std== 1.0\n"
     ]
    }
   ],
   "execution_count": 19
  },
  {
   "metadata": {
    "ExecuteTime": {
     "end_time": "2025-05-17T13:45:07.876888Z",
     "start_time": "2025-05-17T13:45:07.874304Z"
    }
   },
   "cell_type": "code",
   "source": [
    "def add_bias(X):\n",
    "    ones = np.ones((X.shape[0], 1))\n",
    "    return np.hstack((ones, X))"
   ],
   "id": "74257a2f52a8f31e",
   "outputs": [],
   "execution_count": 20
  },
  {
   "metadata": {
    "ExecuteTime": {
     "end_time": "2025-05-17T13:45:07.971825Z",
     "start_time": "2025-05-17T13:45:07.969551Z"
    }
   },
   "cell_type": "code",
   "source": [
    "def fit_analytic(X, y):\n",
    "    X_b = add_bias(X)\n",
    "    theta = np.linalg.pinv(X_b.T @ X_b) @ X_b.T @ y\n",
    "    return theta"
   ],
   "id": "e46d51cc91a3b776",
   "outputs": [],
   "execution_count": 21
  },
  {
   "metadata": {
    "ExecuteTime": {
     "end_time": "2025-05-17T13:45:08.072717Z",
     "start_time": "2025-05-17T13:45:08.070498Z"
    }
   },
   "cell_type": "code",
   "source": [
    "def predict_analytic(X,theta):\n",
    "    X_b = add_bias(X)\n",
    "    return X_b @ theta"
   ],
   "id": "7dae3c324944adfb",
   "outputs": [],
   "execution_count": 22
  },
  {
   "metadata": {
    "ExecuteTime": {
     "end_time": "2025-05-17T13:45:08.199364Z",
     "start_time": "2025-05-17T13:45:08.192798Z"
    }
   },
   "cell_type": "code",
   "source": [
    "X = X_train_z.values\n",
    "X_test = X_test_z.values\n",
    "y = y_train.values.flatten()"
   ],
   "id": "393ad0740374eb7e",
   "outputs": [],
   "execution_count": 23
  },
  {
   "metadata": {
    "ExecuteTime": {
     "end_time": "2025-05-17T13:45:24.778961Z",
     "start_time": "2025-05-17T13:45:08.295432Z"
    }
   },
   "cell_type": "code",
   "source": [
    "from regularization import ridge_regression, lasso_regression, elastic_net_regression\n",
    "from metrics import mean_squared_error_manual, mean_absolute_error_manual, r2_score_manual\n",
    "from hyperparameter_tuning import grid_search_cv\n",
    "from cross_validation import kfold_split\n",
    "import numpy as np\n",
    "\n",
    "cv = kfold_split(X_train_z, n_splits=5, shuffle=True, random_state=42)\n",
    "\n",
    "class RidgeWrapper:\n",
    "    def __init__(self, alpha):\n",
    "        self.alpha = alpha\n",
    "\n",
    "    def fit(self, X, y):\n",
    "        X_b = np.c_[np.ones(len(X)), X]\n",
    "        self.w_hist, _ = ridge_regression(X_b, y, alpha=self.alpha, alpha_lr=0.001, n_iters=1000)\n",
    "        self.w = self.w_hist[-1]\n",
    "\n",
    "    def predict(self, X):\n",
    "        X_b = np.c_[np.ones(len(X)), X]\n",
    "        return X_b @ self.w\n",
    "\n",
    "class LassoWrapper:\n",
    "    def __init__(self, alpha):\n",
    "        self.alpha = alpha\n",
    "\n",
    "    def fit(self, X, y):\n",
    "        X_b = np.c_[np.ones(len(X)), X]\n",
    "        self.w_hist, _ = lasso_regression(X_b, y, alpha=self.alpha, alpha_lr=0.001, n_iters=1000)\n",
    "        self.w = self.w_hist[-1]\n",
    "\n",
    "    def predict(self, X):\n",
    "        X_b = np.c_[np.ones(len(X)), X]\n",
    "        return X_b @ self.w\n",
    "\n",
    "class ElasticNetWrapper:\n",
    "    def __init__(self, alpha1, alpha2):\n",
    "        self.alpha1 = alpha1\n",
    "        self.alpha2 = alpha2\n",
    "\n",
    "    def fit(self, X, y):\n",
    "        X_b = np.c_[np.ones(len(X)), X]\n",
    "        self.w_hist, _ = elastic_net_regression(\n",
    "            X_b, y,\n",
    "            alpha1=self.alpha1,\n",
    "            alpha2=self.alpha2,\n",
    "            alpha_lr=0.001,\n",
    "            n_iters=1000\n",
    "        )\n",
    "        self.w = self.w_hist[-1]\n",
    "\n",
    "    def predict(self, X):\n",
    "        X_b = np.c_[np.ones(len(X)), X]\n",
    "        return X_b @ self.w\n",
    "\n",
    "grid_ridge = {\"alpha\": [1e-5, 1e-4, 1e-3, 1e-2]}\n",
    "grid_lasso = {\"alpha\": [1e-5, 1e-4, 1e-3, 1e-2, 0.1]}\n",
    "grid_elastic = {\n",
    "    \"alpha1\": [1e-4, 1e-3, 1e-2],\n",
    "    \"alpha2\": [1e-4, 1e-3, 1e-2]\n",
    "}\n",
    "\n",
    "print(\"\\nRidge:\")\n",
    "best_ridge, score_ridge, _ = grid_search_cv(RidgeWrapper, grid_ridge, X_train_z, y, cv=cv,\n",
    "                                            scoring=mean_squared_error_manual, verbose=True)\n",
    "\n",
    "print(\"\\nLasso:\")\n",
    "best_lasso, score_lasso, _ = grid_search_cv(LassoWrapper, grid_lasso, X_train_z, y, cv=cv,\n",
    "                                            scoring=mean_squared_error_manual, verbose=True)\n",
    "\n",
    "print(\"\\nElasticNet:\")\n",
    "best_elastic, score_elastic, _ = grid_search_cv(ElasticNetWrapper, grid_elastic, X_train_z, y, cv=cv,\n",
    "                                                scoring=mean_squared_error_manual, verbose=True)\n",
    "\n",
    "def report(name, model_class, params):\n",
    "    model = model_class(**params)\n",
    "    model.fit(X_train_z, y)\n",
    "    y_pred = model.predict(X_train_z)\n",
    "    print(f\"\\n{name}:\")\n",
    "    print(\"Best params:\", params)\n",
    "    print(\"MSE  =\", mean_squared_error_manual(y, y_pred))\n",
    "    print(\"MAE  =\", mean_absolute_error_manual(y, y_pred))\n",
    "    print(\"R²   =\", r2_score_manual(y, y_pred))\n",
    "    print(\"mean |w|:\", np.mean(np.abs(model.w)))\n",
    "    print(\"non-zero weights:\", np.count_nonzero(np.abs(model.w) > 1e-4))\n",
    "\n",
    "report(\"Ridge\", RidgeWrapper, best_ridge)\n",
    "report(\"Lasso\", LassoWrapper, best_lasso)\n",
    "report(\"ElasticNet\", ElasticNetWrapper, best_elastic)\n"
   ],
   "id": "b3933a78fca329e0",
   "outputs": [
    {
     "name": "stdout",
     "output_type": "stream",
     "text": [
      "\n",
      "Ridge:\n",
      "[1/4] params={'alpha': 1e-05}  mean_score=69.0317\n",
      "[2/4] params={'alpha': 0.0001}  mean_score=69.0666\n",
      "[3/4] params={'alpha': 0.001}  mean_score=69.4158\n",
      "[4/4] params={'alpha': 0.01}  mean_score=72.9639\n",
      "\n",
      "Lasso:\n",
      "[1/5] params={'alpha': 1e-05}  mean_score=69.0279\n",
      "[2/5] params={'alpha': 0.0001}  mean_score=69.0283\n",
      "[3/5] params={'alpha': 0.001}  mean_score=69.0328\n",
      "[4/5] params={'alpha': 0.01}  mean_score=69.0774\n",
      "[5/5] params={'alpha': 0.1}  mean_score=69.5595\n",
      "\n",
      "ElasticNet:\n",
      "[1/9] params={'alpha1': 0.0001, 'alpha2': 0.0001}  mean_score=69.0671\n",
      "[2/9] params={'alpha1': 0.0001, 'alpha2': 0.001}  mean_score=69.4163\n",
      "[3/9] params={'alpha1': 0.0001, 'alpha2': 0.01}  mean_score=72.9644\n",
      "[4/9] params={'alpha1': 0.001, 'alpha2': 0.0001}  mean_score=69.0715\n",
      "[5/9] params={'alpha1': 0.001, 'alpha2': 0.001}  mean_score=69.4208\n",
      "[6/9] params={'alpha1': 0.001, 'alpha2': 0.01}  mean_score=72.9691\n",
      "[7/9] params={'alpha1': 0.01, 'alpha2': 0.0001}  mean_score=69.1162\n",
      "[8/9] params={'alpha1': 0.01, 'alpha2': 0.001}  mean_score=69.4656\n",
      "[9/9] params={'alpha1': 0.01, 'alpha2': 0.01}  mean_score=73.0161\n",
      "\n",
      "Ridge:\n",
      "Best params: {'alpha': 1e-05}\n",
      "MSE  = 68.16612457173018\n",
      "MAE  = 6.971482757131366\n",
      "R²   = 0.7710554776555463\n",
      "mean |w|: 2.3667784375214067\n",
      "non-zero weights: 30\n",
      "\n",
      "Lasso:\n",
      "Best params: {'alpha': 1e-05}\n",
      "MSE  = 68.16233882764206\n",
      "MAE  = 6.971253303488244\n",
      "R²   = 0.7710681925542943\n",
      "mean |w|: 2.3667885688766717\n",
      "non-zero weights: 30\n",
      "\n",
      "ElasticNet:\n",
      "Best params: {'alpha1': 0.0001, 'alpha2': 0.0001}\n",
      "MSE  = 68.2014500549076\n",
      "MAE  = 6.973619185021252\n",
      "R²   = 0.770936832567191\n",
      "mean |w|: 2.3666279045625354\n",
      "non-zero weights: 30\n"
     ]
    }
   ],
   "execution_count": 24
  },
  {
   "metadata": {
    "ExecuteTime": {
     "end_time": "2025-05-17T13:45:24.836328Z",
     "start_time": "2025-05-17T13:45:24.834743Z"
    }
   },
   "cell_type": "code",
   "source": "",
   "id": "5f7e3db71dcf3af3",
   "outputs": [],
   "execution_count": null
  },
  {
   "metadata": {
    "ExecuteTime": {
     "end_time": "2025-05-17T13:45:25.870416Z",
     "start_time": "2025-05-17T13:45:24.928918Z"
    }
   },
   "cell_type": "code",
   "source": [
    "from cross_validation import kfold_split, cross_val_score_manual\n",
    "from metrics import mean_squared_error_manual, mean_absolute_error_manual, r2_score_manual\n",
    "from linear_regression import LinearRegressionManual\n",
    "import numpy as np\n",
    "\n",
    "cv_kfold = kfold_split(X, n_splits=5, shuffle=True, random_state=42)\n",
    "methods = [\"analytic\", \"gradient\"]\n",
    "\n",
    "for method in methods:\n",
    "    model = LinearRegressionManual(method=method)\n",
    "    scores_kfold = cross_val_score_manual(model, X_train_z, y, cv_kfold, mean_squared_error_manual)\n",
    "    print(f\" {method.upper()} — KFold MSE mean: {np.mean(scores_kfold):.4f}\")\n",
    "\n",
    "\n"
   ],
   "id": "296d0ae5b5be332b",
   "outputs": [
    {
     "name": "stdout",
     "output_type": "stream",
     "text": [
      " ANALYTIC — KFold MSE mean: 20.1641\n",
      " GRADIENT — KFold MSE mean: 20.2765\n"
     ]
    }
   ],
   "execution_count": 25
  },
  {
   "metadata": {
    "ExecuteTime": {
     "end_time": "2025-05-17T13:45:26.893238Z",
     "start_time": "2025-05-17T13:45:25.926062Z"
    }
   },
   "cell_type": "code",
   "source": [
    "from cross_validation import cross_val_score_manual\n",
    "\n",
    "model = LassoWrapper(alpha=1e-5)\n",
    "cv_kfold = kfold_split(X_train_z, n_splits=5, shuffle=True, random_state=42)\n",
    "\n",
    "scores = cross_val_score_manual(model, X_train_z, y, cv=cv_kfold, scoring=mean_squared_error_manual)\n",
    "\n",
    "print(\" Lasso (α=1e-5) — KFold MSE mean:\", np.mean(scores))\n",
    "print(\" Отдельно по фолдам:\", scores)\n"
   ],
   "id": "3a423120c37ba0d8",
   "outputs": [
    {
     "name": "stdout",
     "output_type": "stream",
     "text": [
      " Lasso (α=1e-5) — KFold MSE mean: 69.02790091077225\n",
      " Отдельно по фолдам: [np.float64(68.3568116796407), np.float64(66.71784546636395), np.float64(70.2653845726024), np.float64(69.48211605479459), np.float64(70.31734678045962)]\n"
     ]
    }
   ],
   "execution_count": 26
  },
  {
   "metadata": {
    "ExecuteTime": {
     "end_time": "2025-05-17T13:45:27.122283Z",
     "start_time": "2025-05-17T13:45:26.991494Z"
    }
   },
   "cell_type": "code",
   "source": [
    "from sklearn.linear_model import LinearRegression\n",
    "from sklearn.model_selection import cross_val_score\n",
    "from sklearn.metrics import mean_squared_error, mean_absolute_error, r2_score\n",
    "\n",
    "sk_model = LinearRegression()\n",
    "sk_model.fit(X, y)\n",
    "y_pred_sk = sk_model.predict(X)\n",
    "\n",
    "print(\" Сравнение со sklearn:\")\n",
    "print(\"MSE manual     :\", mean_squared_error_manual(y, y_pred_sk))\n",
    "print(\"MSE sklearn    :\", mean_squared_error(y, y_pred_sk))\n",
    "\n",
    "print(\"MAE manual     :\", mean_absolute_error_manual(y, y_pred_sk))\n",
    "print(\"MAE sklearn    :\", mean_absolute_error(y, y_pred_sk))\n",
    "\n",
    "print(\"R² manual      :\", r2_score_manual(y, y_pred_sk))\n",
    "print(\"R² sklearn     :\", r2_score(y, y_pred_sk))\n"
   ],
   "id": "2110ae5f20bdc8e5",
   "outputs": [
    {
     "name": "stdout",
     "output_type": "stream",
     "text": [
      " Сравнение со sklearn:\n",
      "MSE manual     : 19.957831519495723\n",
      "MSE sklearn    : 19.957831519495723\n",
      "MAE manual     : 3.4945095443383885\n",
      "MAE sklearn    : 3.4945095443383885\n",
      "R² manual      : 0.9329691069725712\n",
      "R² sklearn     : 0.9329691069725712\n"
     ]
    }
   ],
   "execution_count": 27
  },
  {
   "metadata": {
    "ExecuteTime": {
     "end_time": "2025-05-17T13:45:27.233402Z",
     "start_time": "2025-05-17T13:45:27.230420Z"
    }
   },
   "cell_type": "code",
   "source": "y_pred = model.predict(X_test)\n",
   "id": "422b089c7a095116",
   "outputs": [],
   "execution_count": 28
  },
  {
   "metadata": {
    "ExecuteTime": {
     "end_time": "2025-05-17T13:45:27.328459Z",
     "start_time": "2025-05-17T13:45:27.324289Z"
    }
   },
   "cell_type": "code",
   "source": [
    "print(\"X_train shape:\", X.shape)\n",
    "print(\"X_test shape:\", X_test.shape)\n"
   ],
   "id": "f84d40c785e0befa",
   "outputs": [
    {
     "name": "stdout",
     "output_type": "stream",
     "text": [
      "X_train shape: (9788, 29)\n",
      "X_test shape: (5000, 29)\n"
     ]
    }
   ],
   "execution_count": 29
  },
  {
   "metadata": {
    "ExecuteTime": {
     "end_time": "2025-05-17T13:45:27.426419Z",
     "start_time": "2025-05-17T13:45:27.406704Z"
    }
   },
   "cell_type": "code",
   "source": "test_raw = pd.read_csv(\"test.csv\")",
   "id": "6fbd7b6aa8f4dc48",
   "outputs": [],
   "execution_count": 30
  },
  {
   "metadata": {
    "ExecuteTime": {
     "end_time": "2025-05-17T13:45:27.465119Z",
     "start_time": "2025-05-17T13:45:27.451453Z"
    }
   },
   "cell_type": "code",
   "source": [
    "y_pred_flat = y_pred.flatten()\n",
    "\n",
    "submission = pd.DataFrame({\n",
    "    \"ID\": test_raw[\"ID\"],\n",
    "    \"RiskScore\": y_pred_flat\n",
    "})\n",
    "\n",
    "submission.to_csv(\"baseline.csv\", index=False)\n"
   ],
   "id": "b9105b7504a29871",
   "outputs": [],
   "execution_count": 31
  },
  {
   "metadata": {
    "ExecuteTime": {
     "end_time": "2025-05-17T13:45:27.527964Z",
     "start_time": "2025-05-17T13:45:27.526097Z"
    }
   },
   "cell_type": "code",
   "source": "",
   "id": "826131f1b03db53b",
   "outputs": [],
   "execution_count": null
  }
 ],
 "metadata": {
  "kernelspec": {
   "display_name": "Python 3",
   "language": "python",
   "name": "python3"
  },
  "language_info": {
   "codemirror_mode": {
    "name": "ipython",
    "version": 2
   },
   "file_extension": ".py",
   "mimetype": "text/x-python",
   "name": "python",
   "nbconvert_exporter": "python",
   "pygments_lexer": "ipython2",
   "version": "2.7.6"
  }
 },
 "nbformat": 4,
 "nbformat_minor": 5
}
