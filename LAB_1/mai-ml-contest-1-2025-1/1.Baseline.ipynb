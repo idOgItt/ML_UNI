{
 "cells": [
  {
   "cell_type": "code",
   "id": "initial_id",
   "metadata": {
    "collapsed": true,
    "ExecuteTime": {
     "end_time": "2025-04-05T00:02:29.124835Z",
     "start_time": "2025-04-05T00:02:28.841834Z"
    }
   },
   "source": "import pandas as pd",
   "outputs": [],
   "execution_count": 1
  },
  {
   "metadata": {
    "ExecuteTime": {
     "end_time": "2025-04-05T00:02:29.193445Z",
     "start_time": "2025-04-05T00:02:29.131951Z"
    }
   },
   "cell_type": "code",
   "source": [
    "train = pd.read_csv('train.csv')\n",
    "test = pd.read_csv('test.csv')"
   ],
   "id": "6965ba891794193a",
   "outputs": [],
   "execution_count": 2
  },
  {
   "metadata": {
    "ExecuteTime": {
     "end_time": "2025-04-05T00:02:29.250362Z",
     "start_time": "2025-04-05T00:02:29.247953Z"
    }
   },
   "cell_type": "code",
   "source": [
    "print(\"Train shape:\", train.shape)\n",
    "print(\"Test shape:\", test.shape)"
   ],
   "id": "190bac95d41cbfa",
   "outputs": [
    {
     "name": "stdout",
     "output_type": "stream",
     "text": [
      "Train shape: (11017, 36)\n",
      "Test shape: (5000, 36)\n"
     ]
    }
   ],
   "execution_count": 3
  },
  {
   "metadata": {
    "ExecuteTime": {
     "end_time": "2025-04-05T00:02:29.302454Z",
     "start_time": "2025-04-05T00:02:29.299032Z"
    }
   },
   "cell_type": "code",
   "source": "print(\"Train labels:\", train['RiskScore'])",
   "id": "65a091d5c6d02944",
   "outputs": [
    {
     "name": "stdout",
     "output_type": "stream",
     "text": [
      "Train labels: 0        66.176500\n",
      "1        28.495737\n",
      "2        34.488104\n",
      "3        36.910753\n",
      "4        31.347091\n",
      "           ...    \n",
      "11012    32.440586\n",
      "11013    67.673170\n",
      "11014    75.292707\n",
      "11015          NaN\n",
      "11016    32.805455\n",
      "Name: RiskScore, Length: 11017, dtype: float64\n"
     ]
    }
   ],
   "execution_count": 4
  },
  {
   "metadata": {
    "ExecuteTime": {
     "end_time": "2025-04-05T00:02:29.362331Z",
     "start_time": "2025-04-05T00:02:29.353601Z"
    }
   },
   "cell_type": "code",
   "source": "train.columns.tolist()",
   "id": "d9fc3f5cf44684ec",
   "outputs": [
    {
     "data": {
      "text/plain": [
       "['ApplicationDate',\n",
       " 'Age',\n",
       " 'AnnualIncome',\n",
       " 'CreditScore',\n",
       " 'LoanAmount',\n",
       " 'LoanDuration',\n",
       " 'MaritalStatus',\n",
       " 'NumberOfDependents',\n",
       " 'HomeOwnershipStatus',\n",
       " 'MonthlyDebtPayments',\n",
       " 'CreditCardUtilizationRate',\n",
       " 'NumberOfOpenCreditLines',\n",
       " 'NumberOfCreditInquiries',\n",
       " 'DebtToIncomeRatio',\n",
       " 'BankruptcyHistory',\n",
       " 'LoanPurpose',\n",
       " 'PreviousLoanDefaults',\n",
       " 'PaymentHistory',\n",
       " 'LengthOfCreditHistory',\n",
       " 'SavingsAccountBalance',\n",
       " 'CheckingAccountBalance',\n",
       " 'TotalAssets',\n",
       " 'TotalLiabilities',\n",
       " 'MonthlyIncome',\n",
       " 'UtilityBillsPaymentHistory',\n",
       " 'JobTenure',\n",
       " 'EmploymentStatus',\n",
       " 'EducationLevel',\n",
       " 'Experience',\n",
       " 'NetWorth',\n",
       " 'BaseInterestRate',\n",
       " 'InterestRate',\n",
       " 'MonthlyLoanPayment',\n",
       " 'TotalDebtToIncomeRatio',\n",
       " 'LoanApproved',\n",
       " 'RiskScore']"
      ]
     },
     "execution_count": 5,
     "metadata": {},
     "output_type": "execute_result"
    }
   ],
   "execution_count": 5
  },
  {
   "metadata": {
    "ExecuteTime": {
     "end_time": "2025-04-05T00:02:29.435076Z",
     "start_time": "2025-04-05T00:02:29.412409Z"
    }
   },
   "cell_type": "code",
   "source": "train.head()",
   "id": "4a10ab562e14268f",
   "outputs": [
    {
     "data": {
      "text/plain": [
       "  ApplicationDate   Age  AnnualIncome  CreditScore  LoanAmount  LoanDuration  \\\n",
       "0      2010-06-26  27.0       66829.0        549.0     17290.0          60.0   \n",
       "1      1996-09-23  55.0      172147.0        850.0     16110.0          36.0   \n",
       "2      2015-01-19  51.0      300000.0        850.0     38436.0          36.0   \n",
       "3      1981-05-12  25.0       34683.0        847.0     19186.0          48.0   \n",
       "4      1995-05-07  55.0      300000.0        850.0     30437.0          48.0   \n",
       "\n",
       "  MaritalStatus  NumberOfDependents HomeOwnershipStatus  MonthlyDebtPayments  \\\n",
       "0      Divorced                 1.0                Rent               1095.0   \n",
       "1       Widowed                 1.0            Mortgage                211.0   \n",
       "2       Married                 0.0            Mortgage                546.0   \n",
       "3       Married                 0.0               Other                153.0   \n",
       "4        Single                 2.0                Rent                562.0   \n",
       "\n",
       "   ...  EmploymentStatus  EducationLevel  Experience  NetWorth  \\\n",
       "0  ...          Employed       Associate         4.0   35067.0   \n",
       "1  ...          Employed     High School        33.0   27001.0   \n",
       "2  ...          Employed        Bachelor        28.0  278382.0   \n",
       "3  ...          Employed     High School         0.0    9224.0   \n",
       "4  ...          Employed        Bachelor        31.0    4502.0   \n",
       "\n",
       "   BaseInterestRate InterestRate  MonthlyLoanPayment  TotalDebtToIncomeRatio  \\\n",
       "0          0.257790     0.251465          508.970230                0.288013   \n",
       "1          0.086110     0.093173          514.675859                0.050585   \n",
       "2          0.108436     0.115443         1268.276385                0.072571   \n",
       "3          0.100686     0.112822          498.505187                0.225415   \n",
       "4          0.110437     0.089037          756.035156                0.052721   \n",
       "\n",
       "   LoanApproved  RiskScore  \n",
       "0           0.0  66.176500  \n",
       "1           1.0  28.495737  \n",
       "2           1.0  34.488104  \n",
       "3           1.0  36.910753  \n",
       "4           1.0  31.347091  \n",
       "\n",
       "[5 rows x 36 columns]"
      ],
      "text/html": [
       "<div>\n",
       "<style scoped>\n",
       "    .dataframe tbody tr th:only-of-type {\n",
       "        vertical-align: middle;\n",
       "    }\n",
       "\n",
       "    .dataframe tbody tr th {\n",
       "        vertical-align: top;\n",
       "    }\n",
       "\n",
       "    .dataframe thead th {\n",
       "        text-align: right;\n",
       "    }\n",
       "</style>\n",
       "<table border=\"1\" class=\"dataframe\">\n",
       "  <thead>\n",
       "    <tr style=\"text-align: right;\">\n",
       "      <th></th>\n",
       "      <th>ApplicationDate</th>\n",
       "      <th>Age</th>\n",
       "      <th>AnnualIncome</th>\n",
       "      <th>CreditScore</th>\n",
       "      <th>LoanAmount</th>\n",
       "      <th>LoanDuration</th>\n",
       "      <th>MaritalStatus</th>\n",
       "      <th>NumberOfDependents</th>\n",
       "      <th>HomeOwnershipStatus</th>\n",
       "      <th>MonthlyDebtPayments</th>\n",
       "      <th>...</th>\n",
       "      <th>EmploymentStatus</th>\n",
       "      <th>EducationLevel</th>\n",
       "      <th>Experience</th>\n",
       "      <th>NetWorth</th>\n",
       "      <th>BaseInterestRate</th>\n",
       "      <th>InterestRate</th>\n",
       "      <th>MonthlyLoanPayment</th>\n",
       "      <th>TotalDebtToIncomeRatio</th>\n",
       "      <th>LoanApproved</th>\n",
       "      <th>RiskScore</th>\n",
       "    </tr>\n",
       "  </thead>\n",
       "  <tbody>\n",
       "    <tr>\n",
       "      <th>0</th>\n",
       "      <td>2010-06-26</td>\n",
       "      <td>27.0</td>\n",
       "      <td>66829.0</td>\n",
       "      <td>549.0</td>\n",
       "      <td>17290.0</td>\n",
       "      <td>60.0</td>\n",
       "      <td>Divorced</td>\n",
       "      <td>1.0</td>\n",
       "      <td>Rent</td>\n",
       "      <td>1095.0</td>\n",
       "      <td>...</td>\n",
       "      <td>Employed</td>\n",
       "      <td>Associate</td>\n",
       "      <td>4.0</td>\n",
       "      <td>35067.0</td>\n",
       "      <td>0.257790</td>\n",
       "      <td>0.251465</td>\n",
       "      <td>508.970230</td>\n",
       "      <td>0.288013</td>\n",
       "      <td>0.0</td>\n",
       "      <td>66.176500</td>\n",
       "    </tr>\n",
       "    <tr>\n",
       "      <th>1</th>\n",
       "      <td>1996-09-23</td>\n",
       "      <td>55.0</td>\n",
       "      <td>172147.0</td>\n",
       "      <td>850.0</td>\n",
       "      <td>16110.0</td>\n",
       "      <td>36.0</td>\n",
       "      <td>Widowed</td>\n",
       "      <td>1.0</td>\n",
       "      <td>Mortgage</td>\n",
       "      <td>211.0</td>\n",
       "      <td>...</td>\n",
       "      <td>Employed</td>\n",
       "      <td>High School</td>\n",
       "      <td>33.0</td>\n",
       "      <td>27001.0</td>\n",
       "      <td>0.086110</td>\n",
       "      <td>0.093173</td>\n",
       "      <td>514.675859</td>\n",
       "      <td>0.050585</td>\n",
       "      <td>1.0</td>\n",
       "      <td>28.495737</td>\n",
       "    </tr>\n",
       "    <tr>\n",
       "      <th>2</th>\n",
       "      <td>2015-01-19</td>\n",
       "      <td>51.0</td>\n",
       "      <td>300000.0</td>\n",
       "      <td>850.0</td>\n",
       "      <td>38436.0</td>\n",
       "      <td>36.0</td>\n",
       "      <td>Married</td>\n",
       "      <td>0.0</td>\n",
       "      <td>Mortgage</td>\n",
       "      <td>546.0</td>\n",
       "      <td>...</td>\n",
       "      <td>Employed</td>\n",
       "      <td>Bachelor</td>\n",
       "      <td>28.0</td>\n",
       "      <td>278382.0</td>\n",
       "      <td>0.108436</td>\n",
       "      <td>0.115443</td>\n",
       "      <td>1268.276385</td>\n",
       "      <td>0.072571</td>\n",
       "      <td>1.0</td>\n",
       "      <td>34.488104</td>\n",
       "    </tr>\n",
       "    <tr>\n",
       "      <th>3</th>\n",
       "      <td>1981-05-12</td>\n",
       "      <td>25.0</td>\n",
       "      <td>34683.0</td>\n",
       "      <td>847.0</td>\n",
       "      <td>19186.0</td>\n",
       "      <td>48.0</td>\n",
       "      <td>Married</td>\n",
       "      <td>0.0</td>\n",
       "      <td>Other</td>\n",
       "      <td>153.0</td>\n",
       "      <td>...</td>\n",
       "      <td>Employed</td>\n",
       "      <td>High School</td>\n",
       "      <td>0.0</td>\n",
       "      <td>9224.0</td>\n",
       "      <td>0.100686</td>\n",
       "      <td>0.112822</td>\n",
       "      <td>498.505187</td>\n",
       "      <td>0.225415</td>\n",
       "      <td>1.0</td>\n",
       "      <td>36.910753</td>\n",
       "    </tr>\n",
       "    <tr>\n",
       "      <th>4</th>\n",
       "      <td>1995-05-07</td>\n",
       "      <td>55.0</td>\n",
       "      <td>300000.0</td>\n",
       "      <td>850.0</td>\n",
       "      <td>30437.0</td>\n",
       "      <td>48.0</td>\n",
       "      <td>Single</td>\n",
       "      <td>2.0</td>\n",
       "      <td>Rent</td>\n",
       "      <td>562.0</td>\n",
       "      <td>...</td>\n",
       "      <td>Employed</td>\n",
       "      <td>Bachelor</td>\n",
       "      <td>31.0</td>\n",
       "      <td>4502.0</td>\n",
       "      <td>0.110437</td>\n",
       "      <td>0.089037</td>\n",
       "      <td>756.035156</td>\n",
       "      <td>0.052721</td>\n",
       "      <td>1.0</td>\n",
       "      <td>31.347091</td>\n",
       "    </tr>\n",
       "  </tbody>\n",
       "</table>\n",
       "<p>5 rows × 36 columns</p>\n",
       "</div>"
      ]
     },
     "execution_count": 6,
     "metadata": {},
     "output_type": "execute_result"
    }
   ],
   "execution_count": 6
  },
  {
   "metadata": {
    "ExecuteTime": {
     "end_time": "2025-04-05T00:02:29.510580Z",
     "start_time": "2025-04-05T00:02:29.500657Z"
    }
   },
   "cell_type": "code",
   "source": "test.head()",
   "id": "67296aa91e371efd",
   "outputs": [
    {
     "data": {
      "text/plain": [
       "   ID ApplicationDate  Age  AnnualIncome  CreditScore  LoanAmount  \\\n",
       "0   0      1979-01-03   49        207095          850       14458   \n",
       "1   1      2006-04-10   28         64653          674       65491   \n",
       "2   2      2013-11-28   41        300000          768       16811   \n",
       "3   3      1995-08-24   50        300000          850       48737   \n",
       "4   4      1980-06-15   35        300000          672       51916   \n",
       "\n",
       "   LoanDuration MaritalStatus  NumberOfDependents HomeOwnershipStatus  ...  \\\n",
       "0            60        Single                   0                Rent  ...   \n",
       "1            48        Single                   2                 Own  ...   \n",
       "2            60        Single                   1                 Own  ...   \n",
       "3            36      Divorced                   0            Mortgage  ...   \n",
       "4            60        Single                   6            Mortgage  ...   \n",
       "\n",
       "   JobTenure  EmploymentStatus  EducationLevel  Experience  NetWorth  \\\n",
       "0          6          Employed     High School          23     10626   \n",
       "1          3          Employed     High School           3    299024   \n",
       "2          3          Employed     High School          19      6979   \n",
       "3          3     Self-Employed        Bachelor          26      8438   \n",
       "4          7          Employed       Associate          12    436216   \n",
       "\n",
       "   BaseInterestRate InterestRate  MonthlyLoanPayment  TotalDebtToIncomeRatio  \\\n",
       "0          0.104458     0.125350          325.532336                0.040650   \n",
       "1          0.233491     0.260561         2210.247757                0.454410   \n",
       "2          0.147811     0.154571          403.977431                0.034919   \n",
       "3          0.118737     0.099712         1571.946906                0.085558   \n",
       "4          0.230916     0.237727         1486.675235                0.063707   \n",
       "\n",
       "   LoanApproved  \n",
       "0             1  \n",
       "1             0  \n",
       "2             1  \n",
       "3             1  \n",
       "4             1  \n",
       "\n",
       "[5 rows x 36 columns]"
      ],
      "text/html": [
       "<div>\n",
       "<style scoped>\n",
       "    .dataframe tbody tr th:only-of-type {\n",
       "        vertical-align: middle;\n",
       "    }\n",
       "\n",
       "    .dataframe tbody tr th {\n",
       "        vertical-align: top;\n",
       "    }\n",
       "\n",
       "    .dataframe thead th {\n",
       "        text-align: right;\n",
       "    }\n",
       "</style>\n",
       "<table border=\"1\" class=\"dataframe\">\n",
       "  <thead>\n",
       "    <tr style=\"text-align: right;\">\n",
       "      <th></th>\n",
       "      <th>ID</th>\n",
       "      <th>ApplicationDate</th>\n",
       "      <th>Age</th>\n",
       "      <th>AnnualIncome</th>\n",
       "      <th>CreditScore</th>\n",
       "      <th>LoanAmount</th>\n",
       "      <th>LoanDuration</th>\n",
       "      <th>MaritalStatus</th>\n",
       "      <th>NumberOfDependents</th>\n",
       "      <th>HomeOwnershipStatus</th>\n",
       "      <th>...</th>\n",
       "      <th>JobTenure</th>\n",
       "      <th>EmploymentStatus</th>\n",
       "      <th>EducationLevel</th>\n",
       "      <th>Experience</th>\n",
       "      <th>NetWorth</th>\n",
       "      <th>BaseInterestRate</th>\n",
       "      <th>InterestRate</th>\n",
       "      <th>MonthlyLoanPayment</th>\n",
       "      <th>TotalDebtToIncomeRatio</th>\n",
       "      <th>LoanApproved</th>\n",
       "    </tr>\n",
       "  </thead>\n",
       "  <tbody>\n",
       "    <tr>\n",
       "      <th>0</th>\n",
       "      <td>0</td>\n",
       "      <td>1979-01-03</td>\n",
       "      <td>49</td>\n",
       "      <td>207095</td>\n",
       "      <td>850</td>\n",
       "      <td>14458</td>\n",
       "      <td>60</td>\n",
       "      <td>Single</td>\n",
       "      <td>0</td>\n",
       "      <td>Rent</td>\n",
       "      <td>...</td>\n",
       "      <td>6</td>\n",
       "      <td>Employed</td>\n",
       "      <td>High School</td>\n",
       "      <td>23</td>\n",
       "      <td>10626</td>\n",
       "      <td>0.104458</td>\n",
       "      <td>0.125350</td>\n",
       "      <td>325.532336</td>\n",
       "      <td>0.040650</td>\n",
       "      <td>1</td>\n",
       "    </tr>\n",
       "    <tr>\n",
       "      <th>1</th>\n",
       "      <td>1</td>\n",
       "      <td>2006-04-10</td>\n",
       "      <td>28</td>\n",
       "      <td>64653</td>\n",
       "      <td>674</td>\n",
       "      <td>65491</td>\n",
       "      <td>48</td>\n",
       "      <td>Single</td>\n",
       "      <td>2</td>\n",
       "      <td>Own</td>\n",
       "      <td>...</td>\n",
       "      <td>3</td>\n",
       "      <td>Employed</td>\n",
       "      <td>High School</td>\n",
       "      <td>3</td>\n",
       "      <td>299024</td>\n",
       "      <td>0.233491</td>\n",
       "      <td>0.260561</td>\n",
       "      <td>2210.247757</td>\n",
       "      <td>0.454410</td>\n",
       "      <td>0</td>\n",
       "    </tr>\n",
       "    <tr>\n",
       "      <th>2</th>\n",
       "      <td>2</td>\n",
       "      <td>2013-11-28</td>\n",
       "      <td>41</td>\n",
       "      <td>300000</td>\n",
       "      <td>768</td>\n",
       "      <td>16811</td>\n",
       "      <td>60</td>\n",
       "      <td>Single</td>\n",
       "      <td>1</td>\n",
       "      <td>Own</td>\n",
       "      <td>...</td>\n",
       "      <td>3</td>\n",
       "      <td>Employed</td>\n",
       "      <td>High School</td>\n",
       "      <td>19</td>\n",
       "      <td>6979</td>\n",
       "      <td>0.147811</td>\n",
       "      <td>0.154571</td>\n",
       "      <td>403.977431</td>\n",
       "      <td>0.034919</td>\n",
       "      <td>1</td>\n",
       "    </tr>\n",
       "    <tr>\n",
       "      <th>3</th>\n",
       "      <td>3</td>\n",
       "      <td>1995-08-24</td>\n",
       "      <td>50</td>\n",
       "      <td>300000</td>\n",
       "      <td>850</td>\n",
       "      <td>48737</td>\n",
       "      <td>36</td>\n",
       "      <td>Divorced</td>\n",
       "      <td>0</td>\n",
       "      <td>Mortgage</td>\n",
       "      <td>...</td>\n",
       "      <td>3</td>\n",
       "      <td>Self-Employed</td>\n",
       "      <td>Bachelor</td>\n",
       "      <td>26</td>\n",
       "      <td>8438</td>\n",
       "      <td>0.118737</td>\n",
       "      <td>0.099712</td>\n",
       "      <td>1571.946906</td>\n",
       "      <td>0.085558</td>\n",
       "      <td>1</td>\n",
       "    </tr>\n",
       "    <tr>\n",
       "      <th>4</th>\n",
       "      <td>4</td>\n",
       "      <td>1980-06-15</td>\n",
       "      <td>35</td>\n",
       "      <td>300000</td>\n",
       "      <td>672</td>\n",
       "      <td>51916</td>\n",
       "      <td>60</td>\n",
       "      <td>Single</td>\n",
       "      <td>6</td>\n",
       "      <td>Mortgage</td>\n",
       "      <td>...</td>\n",
       "      <td>7</td>\n",
       "      <td>Employed</td>\n",
       "      <td>Associate</td>\n",
       "      <td>12</td>\n",
       "      <td>436216</td>\n",
       "      <td>0.230916</td>\n",
       "      <td>0.237727</td>\n",
       "      <td>1486.675235</td>\n",
       "      <td>0.063707</td>\n",
       "      <td>1</td>\n",
       "    </tr>\n",
       "  </tbody>\n",
       "</table>\n",
       "<p>5 rows × 36 columns</p>\n",
       "</div>"
      ]
     },
     "execution_count": 7,
     "metadata": {},
     "output_type": "execute_result"
    }
   ],
   "execution_count": 7
  },
  {
   "metadata": {
    "ExecuteTime": {
     "end_time": "2025-04-05T00:02:29.563142Z",
     "start_time": "2025-04-05T00:02:29.552430Z"
    }
   },
   "cell_type": "code",
   "source": "train.info()",
   "id": "adde9ca3eba56c99",
   "outputs": [
    {
     "name": "stdout",
     "output_type": "stream",
     "text": [
      "<class 'pandas.core.frame.DataFrame'>\n",
      "RangeIndex: 11017 entries, 0 to 11016\n",
      "Data columns (total 36 columns):\n",
      " #   Column                      Non-Null Count  Dtype  \n",
      "---  ------                      --------------  -----  \n",
      " 0   ApplicationDate             10487 non-null  object \n",
      " 1   Age                         10487 non-null  float64\n",
      " 2   AnnualIncome                10487 non-null  float64\n",
      " 3   CreditScore                 9986 non-null   float64\n",
      " 4   LoanAmount                  9986 non-null   float64\n",
      " 5   LoanDuration                10487 non-null  float64\n",
      " 6   MaritalStatus               10487 non-null  object \n",
      " 7   NumberOfDependents          10487 non-null  float64\n",
      " 8   HomeOwnershipStatus         10487 non-null  object \n",
      " 9   MonthlyDebtPayments         9986 non-null   float64\n",
      " 10  CreditCardUtilizationRate   10487 non-null  float64\n",
      " 11  NumberOfOpenCreditLines     10487 non-null  float64\n",
      " 12  NumberOfCreditInquiries     10487 non-null  float64\n",
      " 13  DebtToIncomeRatio           10487 non-null  float64\n",
      " 14  BankruptcyHistory           9986 non-null   float64\n",
      " 15  LoanPurpose                 9986 non-null   object \n",
      " 16  PreviousLoanDefaults        10487 non-null  float64\n",
      " 17  PaymentHistory              10487 non-null  float64\n",
      " 18  LengthOfCreditHistory       10487 non-null  float64\n",
      " 19  SavingsAccountBalance       10487 non-null  float64\n",
      " 20  CheckingAccountBalance      9986 non-null   float64\n",
      " 21  TotalAssets                 9986 non-null   float64\n",
      " 22  TotalLiabilities            10487 non-null  float64\n",
      " 23  MonthlyIncome               10487 non-null  float64\n",
      " 24  UtilityBillsPaymentHistory  10487 non-null  float64\n",
      " 25  JobTenure                   10487 non-null  float64\n",
      " 26  EmploymentStatus            10487 non-null  object \n",
      " 27  EducationLevel              10487 non-null  object \n",
      " 28  Experience                  10487 non-null  float64\n",
      " 29  NetWorth                    9986 non-null   float64\n",
      " 30  BaseInterestRate            9986 non-null   float64\n",
      " 31  InterestRate                10487 non-null  float64\n",
      " 32  MonthlyLoanPayment          10487 non-null  float64\n",
      " 33  TotalDebtToIncomeRatio      10487 non-null  float64\n",
      " 34  LoanApproved                10487 non-null  float64\n",
      " 35  RiskScore                   10487 non-null  float64\n",
      "dtypes: float64(30), object(6)\n",
      "memory usage: 3.0+ MB\n"
     ]
    }
   ],
   "execution_count": 8
  },
  {
   "metadata": {
    "ExecuteTime": {
     "end_time": "2025-04-05T00:02:29.634122Z",
     "start_time": "2025-04-05T00:02:29.625791Z"
    }
   },
   "cell_type": "code",
   "source": "test.info()",
   "id": "252d54de94f97d30",
   "outputs": [
    {
     "name": "stdout",
     "output_type": "stream",
     "text": [
      "<class 'pandas.core.frame.DataFrame'>\n",
      "RangeIndex: 5000 entries, 0 to 4999\n",
      "Data columns (total 36 columns):\n",
      " #   Column                      Non-Null Count  Dtype  \n",
      "---  ------                      --------------  -----  \n",
      " 0   ID                          5000 non-null   int64  \n",
      " 1   ApplicationDate             5000 non-null   object \n",
      " 2   Age                         5000 non-null   int64  \n",
      " 3   AnnualIncome                5000 non-null   int64  \n",
      " 4   CreditScore                 5000 non-null   int64  \n",
      " 5   LoanAmount                  5000 non-null   int64  \n",
      " 6   LoanDuration                5000 non-null   int64  \n",
      " 7   MaritalStatus               5000 non-null   object \n",
      " 8   NumberOfDependents          5000 non-null   int64  \n",
      " 9   HomeOwnershipStatus         5000 non-null   object \n",
      " 10  MonthlyDebtPayments         5000 non-null   int64  \n",
      " 11  CreditCardUtilizationRate   5000 non-null   float64\n",
      " 12  NumberOfOpenCreditLines     5000 non-null   int64  \n",
      " 13  NumberOfCreditInquiries     5000 non-null   int64  \n",
      " 14  DebtToIncomeRatio           5000 non-null   float64\n",
      " 15  BankruptcyHistory           5000 non-null   int64  \n",
      " 16  LoanPurpose                 5000 non-null   object \n",
      " 17  PreviousLoanDefaults        5000 non-null   int64  \n",
      " 18  PaymentHistory              5000 non-null   int64  \n",
      " 19  LengthOfCreditHistory       5000 non-null   int64  \n",
      " 20  SavingsAccountBalance       5000 non-null   int64  \n",
      " 21  CheckingAccountBalance      5000 non-null   int64  \n",
      " 22  TotalAssets                 5000 non-null   int64  \n",
      " 23  TotalLiabilities            5000 non-null   int64  \n",
      " 24  MonthlyIncome               5000 non-null   float64\n",
      " 25  UtilityBillsPaymentHistory  5000 non-null   float64\n",
      " 26  JobTenure                   5000 non-null   int64  \n",
      " 27  EmploymentStatus            5000 non-null   object \n",
      " 28  EducationLevel              5000 non-null   object \n",
      " 29  Experience                  5000 non-null   int64  \n",
      " 30  NetWorth                    5000 non-null   int64  \n",
      " 31  BaseInterestRate            5000 non-null   float64\n",
      " 32  InterestRate                5000 non-null   float64\n",
      " 33  MonthlyLoanPayment          5000 non-null   float64\n",
      " 34  TotalDebtToIncomeRatio      5000 non-null   float64\n",
      " 35  LoanApproved                5000 non-null   int64  \n",
      "dtypes: float64(8), int64(22), object(6)\n",
      "memory usage: 1.4+ MB\n"
     ]
    }
   ],
   "execution_count": 9
  },
  {
   "metadata": {
    "ExecuteTime": {
     "end_time": "2025-04-05T00:02:29.751272Z",
     "start_time": "2025-04-05T00:02:29.738320Z"
    }
   },
   "cell_type": "code",
   "source": [
    "unique_counts = {column: train[column].nunique() for column in train.columns}\n",
    "\n",
    "sorted_unique = dict(sorted(unique_counts.items(), key=lambda item: item[1]))\n",
    "\n",
    "for column, count in sorted_unique.items():\n",
    "    print(f\"{column}: {count} unique values\")\n"
   ],
   "id": "5e231721164a760e",
   "outputs": [
    {
     "name": "stdout",
     "output_type": "stream",
     "text": [
      "BankruptcyHistory: 2 unique values\n",
      "PreviousLoanDefaults: 2 unique values\n",
      "LoanApproved: 2 unique values\n",
      "EmploymentStatus: 3 unique values\n",
      "MaritalStatus: 4 unique values\n",
      "HomeOwnershipStatus: 4 unique values\n",
      "LoanPurpose: 5 unique values\n",
      "EducationLevel: 5 unique values\n",
      "NumberOfDependents: 7 unique values\n",
      "NumberOfCreditInquiries: 7 unique values\n",
      "LoanDuration: 10 unique values\n",
      "NumberOfOpenCreditLines: 12 unique values\n",
      "JobTenure: 16 unique values\n",
      "LengthOfCreditHistory: 30 unique values\n",
      "PaymentHistory: 37 unique values\n",
      "Experience: 58 unique values\n",
      "Age: 63 unique values\n",
      "CreditScore: 548 unique values\n",
      "MonthlyDebtPayments: 1736 unique values\n",
      "CheckingAccountBalance: 3971 unique values\n",
      "MonthlyIncome: 5546 unique values\n",
      "AnnualIncome: 5602 unique values\n",
      "SavingsAccountBalance: 6344 unique values\n",
      "LoanAmount: 8720 unique values\n",
      "NetWorth: 8842 unique values\n",
      "TotalAssets: 9241 unique values\n",
      "TotalLiabilities: 9300 unique values\n",
      "BaseInterestRate: 9388 unique values\n",
      "RiskScore: 9790 unique values\n",
      "ApplicationDate: 10000 unique values\n",
      "CreditCardUtilizationRate: 10000 unique values\n",
      "DebtToIncomeRatio: 10000 unique values\n",
      "UtilityBillsPaymentHistory: 10000 unique values\n",
      "InterestRate: 10000 unique values\n",
      "MonthlyLoanPayment: 10000 unique values\n",
      "TotalDebtToIncomeRatio: 10000 unique values\n"
     ]
    }
   ],
   "execution_count": 10
  },
  {
   "metadata": {
    "ExecuteTime": {
     "end_time": "2025-04-05T00:02:29.800612Z",
     "start_time": "2025-04-05T00:02:29.790973Z"
    }
   },
   "cell_type": "code",
   "source": [
    "import numpy as np\n",
    "import pandas as pd\n",
    "\n",
    "train_numeric = train.select_dtypes(include=[np.number])\n",
    "test_numeric = test.select_dtypes(include=[np.number])\n",
    "\n",
    "y_train = train_numeric['RiskScore']\n",
    "X_train = train_numeric.drop(['RiskScore'], axis=1)\n",
    "\n",
    "X_test = test_numeric\n",
    "\n",
    "print(\"X_train\",X_train.shape)\n",
    "print(\"y_train\",y_train.shape)\n",
    "print(\"X_test\",X_test.shape)"
   ],
   "id": "3f47cec0fe229dbc",
   "outputs": [
    {
     "name": "stdout",
     "output_type": "stream",
     "text": [
      "X_train (11017, 29)\n",
      "y_train (11017,)\n",
      "X_test (5000, 30)\n"
     ]
    }
   ],
   "execution_count": 11
  },
  {
   "metadata": {
    "ExecuteTime": {
     "end_time": "2025-04-05T00:02:29.854689Z",
     "start_time": "2025-04-05T00:02:29.851211Z"
    }
   },
   "cell_type": "code",
   "source": "y_train.replace({-9999999.0: np.nan, 10000000.0: np.nan}, inplace=True)",
   "id": "3fd3ba85dbce911",
   "outputs": [],
   "execution_count": 12
  },
  {
   "metadata": {
    "ExecuteTime": {
     "end_time": "2025-04-05T00:02:29.902225Z",
     "start_time": "2025-04-05T00:02:29.894742Z"
    }
   },
   "cell_type": "code",
   "source": [
    "combined = pd.concat([X_train, y_train], axis=1)\n",
    "combined = combined.dropna()\n",
    "\n",
    "X_train = combined.drop(columns=[\"RiskScore\"])\n",
    "y_train = combined[\"RiskScore\"]\n"
   ],
   "id": "9b4d244de3f21e9f",
   "outputs": [],
   "execution_count": 13
  },
  {
   "metadata": {
    "ExecuteTime": {
     "end_time": "2025-04-05T00:02:29.958122Z",
     "start_time": "2025-04-05T00:02:29.954965Z"
    }
   },
   "cell_type": "code",
   "source": [
    "print(\"NaNs в y_train после очистки:\", y_train.isnull().sum())\n",
    "print(\"Форма X_train:\", X_train.shape)\n",
    "print(\"Форма y_train:\", y_train.shape)"
   ],
   "id": "8c8b6dcf8ccc3fb2",
   "outputs": [
    {
     "name": "stdout",
     "output_type": "stream",
     "text": [
      "NaNs в y_train после очистки: 0\n",
      "Форма X_train: (9787, 29)\n",
      "Форма y_train: (9787,)\n"
     ]
    }
   ],
   "execution_count": 14
  },
  {
   "metadata": {
    "ExecuteTime": {
     "end_time": "2025-04-05T00:02:30.021073Z",
     "start_time": "2025-04-05T00:02:30.003770Z"
    }
   },
   "cell_type": "code",
   "source": [
    "print(\"X_train total missing values:\", X_train.isnull().sum().sum())\n",
    "print(\"X_test total missing values before drop/fill:\", X_test.isnull().sum().sum())\n",
    "\n",
    "X_train_filled = X_train.fillna(X_train.mean())\n",
    "\n",
    "X_test_filled = X_test.fillna(X_train.mean())\n",
    "X_test_filled = X_test_filled.drop(columns=[\"Id\"], errors=\"ignore\")\n",
    "X_test_filled = X_test_filled[X_train_filled.columns]\n"
   ],
   "id": "ef38529febc74d1d",
   "outputs": [
    {
     "name": "stdout",
     "output_type": "stream",
     "text": [
      "X_train total missing values: 0\n",
      "X_test total missing values before drop/fill: 0\n"
     ]
    }
   ],
   "execution_count": 15
  },
  {
   "metadata": {
    "ExecuteTime": {
     "end_time": "2025-04-05T00:02:30.063535Z",
     "start_time": "2025-04-05T00:02:30.061070Z"
    }
   },
   "cell_type": "code",
   "source": [
    "def normalize_zscore(X, ref_stats=None):\n",
    "    if ref_stats is None:\n",
    "        mean=X.mean()\n",
    "        std=X.std()\n",
    "    else:\n",
    "        mean,std=ref_stats\n",
    "\n",
    "    std = std.replace(0, 1)\n",
    "\n",
    "    X_norm = (X - mean) / std\n",
    "    return X_norm, (mean, std)"
   ],
   "id": "b11f8d2616db888a",
   "outputs": [],
   "execution_count": 16
  },
  {
   "metadata": {
    "ExecuteTime": {
     "end_time": "2025-04-05T00:02:30.148496Z",
     "start_time": "2025-04-05T00:02:30.145859Z"
    }
   },
   "cell_type": "code",
   "source": [
    "def normalize_minmax(X, ref_stats=None):\n",
    "    if ref_stats is None:\n",
    "        X_min=X.min()\n",
    "        X_max=X.max()\n",
    "    else:\n",
    "        X_min,X_max=ref_stats\n",
    "\n",
    "    X_norm = (X - X_min) / (X_max - X_min)\n",
    "    return X_norm, (X_min, X_max)"
   ],
   "id": "74e6fcf65a08b1a",
   "outputs": [],
   "execution_count": 17
  },
  {
   "metadata": {
    "ExecuteTime": {
     "end_time": "2025-04-05T00:02:30.243601Z",
     "start_time": "2025-04-05T00:02:30.231219Z"
    }
   },
   "cell_type": "code",
   "source": [
    "X_train_z, z_stats = normalize_zscore(X_train_filled)\n",
    "X_test_z, _ = normalize_zscore(X_test_filled, ref_stats=z_stats)"
   ],
   "id": "b4a34bc92203fcab",
   "outputs": [],
   "execution_count": 18
  },
  {
   "metadata": {
    "ExecuteTime": {
     "end_time": "2025-04-05T00:02:30.335374Z",
     "start_time": "2025-04-05T00:02:30.327324Z"
    }
   },
   "cell_type": "code",
   "source": [
    "print(\"Train mean ==\",X_train_z.mean().mean())\n",
    "print(\"Train std==\",X_train_z.std().mean())"
   ],
   "id": "6cec69a92b89e7b1",
   "outputs": [
    {
     "name": "stdout",
     "output_type": "stream",
     "text": [
      "Train mean == 2.906843117222516e-17\n",
      "Train std== 1.0\n"
     ]
    }
   ],
   "execution_count": 19
  },
  {
   "metadata": {
    "ExecuteTime": {
     "end_time": "2025-04-05T00:02:30.380890Z",
     "start_time": "2025-04-05T00:02:30.377855Z"
    }
   },
   "cell_type": "code",
   "source": [
    "def add_bias(X):\n",
    "    ones = np.ones((X.shape[0], 1))\n",
    "    return np.hstack((ones, X))"
   ],
   "id": "74257a2f52a8f31e",
   "outputs": [],
   "execution_count": 20
  },
  {
   "metadata": {
    "ExecuteTime": {
     "end_time": "2025-04-05T00:02:30.435578Z",
     "start_time": "2025-04-05T00:02:30.432549Z"
    }
   },
   "cell_type": "code",
   "source": [
    "def fit_analytic(X, y):\n",
    "    X_b = add_bias(X)\n",
    "    theta = np.linalg.pinv(X_b.T @ X_b) @ X_b.T @ y\n",
    "    return theta"
   ],
   "id": "e46d51cc91a3b776",
   "outputs": [],
   "execution_count": 21
  },
  {
   "metadata": {
    "ExecuteTime": {
     "end_time": "2025-04-05T00:02:30.489702Z",
     "start_time": "2025-04-05T00:02:30.487700Z"
    }
   },
   "cell_type": "code",
   "source": [
    "def predict_analytic(X,theta):\n",
    "    X_b = add_bias(X)\n",
    "    return X_b @ theta"
   ],
   "id": "7dae3c324944adfb",
   "outputs": [],
   "execution_count": 22
  },
  {
   "metadata": {
    "ExecuteTime": {
     "end_time": "2025-04-05T00:02:30.595525Z",
     "start_time": "2025-04-05T00:02:30.584434Z"
    }
   },
   "cell_type": "code",
   "source": [
    "X = X_train_z.values\n",
    "X_test = X_test_z.values\n",
    "y = y_train.values.reshape(-1, 1)\n",
    "\n",
    "theta = fit_analytic(X, y)\n",
    "\n",
    "y_pred = predict_analytic(X_test, theta)"
   ],
   "id": "393ad0740374eb7e",
   "outputs": [],
   "execution_count": 23
  },
  {
   "metadata": {
    "ExecuteTime": {
     "end_time": "2025-04-05T00:02:30.696986Z",
     "start_time": "2025-04-05T00:02:30.693581Z"
    }
   },
   "cell_type": "code",
   "source": [
    "print(\"X_train shape:\", X.shape)\n",
    "print(\"X_test shape:\", X_test.shape)\n",
    "print(\"theta shape:\", theta.shape)\n"
   ],
   "id": "f84d40c785e0befa",
   "outputs": [
    {
     "name": "stdout",
     "output_type": "stream",
     "text": [
      "X_train shape: (9787, 29)\n",
      "X_test shape: (5000, 29)\n",
      "theta shape: (30, 1)\n"
     ]
    }
   ],
   "execution_count": 24
  },
  {
   "metadata": {
    "ExecuteTime": {
     "end_time": "2025-04-05T00:02:30.840767Z",
     "start_time": "2025-04-05T00:02:30.810491Z"
    }
   },
   "cell_type": "code",
   "source": "test_raw = pd.read_csv(\"test.csv\")",
   "id": "6fbd7b6aa8f4dc48",
   "outputs": [],
   "execution_count": 25
  },
  {
   "metadata": {
    "ExecuteTime": {
     "end_time": "2025-04-05T00:02:30.906700Z",
     "start_time": "2025-04-05T00:02:30.894183Z"
    }
   },
   "cell_type": "code",
   "source": [
    "y_pred_flat = y_pred.flatten()\n",
    "\n",
    "submission = pd.DataFrame({\n",
    "    \"ID\": test_raw[\"ID\"],\n",
    "    \"RiskScore\": y_pred_flat\n",
    "})\n",
    "\n",
    "submission.to_csv(\"baseline.csv\", index=False)\n"
   ],
   "id": "b9105b7504a29871",
   "outputs": [],
   "execution_count": 26
  },
  {
   "metadata": {
    "ExecuteTime": {
     "end_time": "2025-04-05T00:02:30.965216Z",
     "start_time": "2025-04-05T00:02:30.962624Z"
    }
   },
   "cell_type": "code",
   "source": "",
   "id": "826131f1b03db53b",
   "outputs": [],
   "execution_count": null
  }
 ],
 "metadata": {
  "kernelspec": {
   "display_name": "Python 3",
   "language": "python",
   "name": "python3"
  },
  "language_info": {
   "codemirror_mode": {
    "name": "ipython",
    "version": 2
   },
   "file_extension": ".py",
   "mimetype": "text/x-python",
   "name": "python",
   "nbconvert_exporter": "python",
   "pygments_lexer": "ipython2",
   "version": "2.7.6"
  }
 },
 "nbformat": 4,
 "nbformat_minor": 5
}
