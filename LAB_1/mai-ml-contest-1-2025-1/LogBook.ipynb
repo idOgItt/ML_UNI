{
 "cells": [
  {
   "metadata": {},
   "cell_type": "markdown",
   "source": [
    "## Step 1: Baseline\n",
    "- Only numeric -> Kept categorial-numeral\n",
    "- Missing data -> filled with mean\n",
    "- Normalising -> Used Z-score\n",
    "- Deleted placeholder values\n",
    "- Analytic linear regression\n",
    "\n",
    "\n",
    "\n",
    "**Literature**\n",
    "- [Scikit-learn: Preprocessing](https://scikit-learn.org/stable/modules/preprocessing.html)\n",
    "- Cost-sensitive learning\n",
    "- Bias-Variance tradeoff\n",
    "\n",
    "**Score**\n",
    "- MSE = 19.8410423"
   ],
   "id": "c5d62567214c74e1"
  },
  {
   "metadata": {},
   "cell_type": "markdown",
   "source": "",
   "id": "67814d794d1e3349"
  },
  {
   "metadata": {},
   "cell_type": "code",
   "outputs": [],
   "execution_count": null,
   "source": [
    "Этап 1. Подготовка модулей и тестов\n",
    "\n",
    "    Создать пустые файлы metrics.py, cross_validation.py, gradient_descent.py (и при желании encoders.py) с заглушками под функции.\n",
    "\n",
    "    Собрать в tests.py все unit-тесты, которые мы обсуждали (для MSE/MAE/R²/MAPE, KFold/LOO, GD).\n",
    "\n",
    "    Запустить тесты, убедиться, что они падают с ImportError или NotImplementedError — это нормально, мы готовы начать реализацию.\n",
    "\n",
    "Этап 2. Реализация и проверка метрик\n",
    "\n",
    "    Реализуем в metrics.py функции\n",
    "\n",
    "        mean_squared_error_manual\n",
    "\n",
    "        mean_absolute_error_manual\n",
    "\n",
    "        r2_score_manual\n",
    "\n",
    "        mean_absolute_percentage_error_manual\n",
    "\n",
    "    Запустим pytest tests.py (или python -m unittest tests.py) — все тесты по метрикам должны пройти.\n",
    "\n",
    "Этап 3. Реализация кросс-валидации\n",
    "\n",
    "    Реализовать в cross_validation.py:\n",
    "\n",
    "        kfold_split\n",
    "\n",
    "        loo_split\n",
    "\n",
    "    Дописать тесты в tests.py (мы уже добавили базовые), запустить и удостовериться, что всё проходит.\n",
    "\n",
    "Этап 4. Реализация градиентного спуска\n",
    "\n",
    "    В gradient_descent.py реализовать batch GD, затем (опционально) mini-batch SGD.\n",
    "\n",
    "    Тесты в tests.py проверят, что при α=0 нет изменений, а при разумном α есть сходимость.\n",
    "\n",
    "Этап 5. Наполнение ноутбука\n",
    "\n",
    "    В Lab_1_final.ipynb пройти по структуре:\n",
    "\n",
    "        Секция 1. Описать задачу и baseline (markdown).\n",
    "\n",
    "        Секция 2. Подключить и продемонстрировать ваши ручные метрики на toy-данных и на реальных (сравнить со sklearn).\n",
    "\n",
    "        Секция 3–5. Аналогично: подключить классы/функции из .py, запустить примеры и графики.\n",
    "\n",
    "        Секция 6. Закодировать категориальные признаки и проверить метрики.\n",
    "\n",
    "        Секция 7. Итоги в виде markdown-таблицы и выводов.\n",
    "\n",
    "    Поскольку все алгоритмы уже покрыты тестами, вы уверены, что код в ноутбуке корректно работает"
   ],
   "id": "cb8d6ecf1964d5b4"
  }
 ],
 "metadata": {
  "kernelspec": {
   "display_name": "Python 3",
   "language": "python",
   "name": "python3"
  },
  "language_info": {
   "codemirror_mode": {
    "name": "ipython",
    "version": 2
   },
   "file_extension": ".py",
   "mimetype": "text/x-python",
   "name": "python",
   "nbconvert_exporter": "python",
   "pygments_lexer": "ipython2",
   "version": "2.7.6"
  }
 },
 "nbformat": 4,
 "nbformat_minor": 5
}
