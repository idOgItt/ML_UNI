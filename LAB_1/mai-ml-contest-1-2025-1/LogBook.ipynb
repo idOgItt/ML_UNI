{
 "cells": [
  {
   "metadata": {},
   "cell_type": "markdown",
   "source": [
    "## Step 1: Baseline\n",
    "- Only numeric -> Kept categorial-numeral\n",
    "- Missing data -> filled with mean\n",
    "- Normalising -> Used Z-score\n",
    "- Deleted placeholder values\n",
    "- Analytic linear regression\n",
    "\n",
    "\n",
    "\n",
    "**Literature**\n",
    "- [Scikit-learn: Preprocessing](https://scikit-learn.org/stable/modules/preprocessing.html)\n",
    "- Cost-sensitive learning\n",
    "- Bias-Variance tradeoff\n",
    "\n",
    "**Score**\n",
    "- MSE = 19.8410423"
   ],
   "id": "c5d62567214c74e1"
  },
  {
   "metadata": {},
   "cell_type": "markdown",
   "source": "",
   "id": "67814d794d1e3349"
  }
 ],
 "metadata": {
  "kernelspec": {
   "display_name": "Python 3",
   "language": "python",
   "name": "python3"
  },
  "language_info": {
   "codemirror_mode": {
    "name": "ipython",
    "version": 2
   },
   "file_extension": ".py",
   "mimetype": "text/x-python",
   "name": "python",
   "nbconvert_exporter": "python",
   "pygments_lexer": "ipython2",
   "version": "2.7.6"
  }
 },
 "nbformat": 4,
 "nbformat_minor": 5
}
